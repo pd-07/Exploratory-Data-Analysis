{
 "cells": [
  {
   "cell_type": "markdown",
   "metadata": {},
   "source": [
    "# EDA - Mini Project - G Jaya Surya "
   ]
  },
  {
   "cell_type": "code",
   "execution_count": null,
   "metadata": {},
   "outputs": [],
   "source": []
  },
  {
   "cell_type": "markdown",
   "metadata": {},
   "source": [
    "Data:\n",
    "    \n",
    "- The data contains details for over 18,000 players playing in various football clubs in Europe. It contains information on age, skill rating, wages and player value, etc. The files provided are as folows: \n",
    "- fifa.csv – data file.\n",
    "- fifa_ variable_information.csv - information on individual variables.\n"
   ]
  },
  {
   "cell_type": "markdown",
   "metadata": {},
   "source": [
    "# Data Preprocessing:"
   ]
  },
  {
   "cell_type": "markdown",
   "metadata": {},
   "source": [
    "1.\tImport the necessary libraries and read the data."
   ]
  },
  {
   "cell_type": "code",
   "execution_count": 2,
   "metadata": {},
   "outputs": [],
   "source": [
    "import numpy as np\n",
    "import pandas as pd\n",
    "import seaborn as sb\n",
    "import matplotlib.pyplot as plt"
   ]
  },
  {
   "cell_type": "code",
   "execution_count": 3,
   "metadata": {},
   "outputs": [],
   "source": [
    "data = pd.read_csv('fifa.csv')"
   ]
  },
  {
   "cell_type": "code",
   "execution_count": 4,
   "metadata": {
    "scrolled": true
   },
   "outputs": [
    {
     "data": {
      "text/html": [
       "<div>\n",
       "<style scoped>\n",
       "    .dataframe tbody tr th:only-of-type {\n",
       "        vertical-align: middle;\n",
       "    }\n",
       "\n",
       "    .dataframe tbody tr th {\n",
       "        vertical-align: top;\n",
       "    }\n",
       "\n",
       "    .dataframe thead th {\n",
       "        text-align: right;\n",
       "    }\n",
       "</style>\n",
       "<table border=\"1\" class=\"dataframe\">\n",
       "  <thead>\n",
       "    <tr style=\"text-align: right;\">\n",
       "      <th></th>\n",
       "      <th>ID</th>\n",
       "      <th>Name</th>\n",
       "      <th>Age</th>\n",
       "      <th>Photo</th>\n",
       "      <th>Nationality</th>\n",
       "      <th>Flag</th>\n",
       "      <th>Overall</th>\n",
       "      <th>Potential</th>\n",
       "      <th>Club</th>\n",
       "      <th>Club Logo</th>\n",
       "      <th>...</th>\n",
       "      <th>Composure</th>\n",
       "      <th>Marking</th>\n",
       "      <th>StandingTackle</th>\n",
       "      <th>SlidingTackle</th>\n",
       "      <th>GKDiving</th>\n",
       "      <th>GKHandling</th>\n",
       "      <th>GKKicking</th>\n",
       "      <th>GKPositioning</th>\n",
       "      <th>GKReflexes</th>\n",
       "      <th>Release Clause</th>\n",
       "    </tr>\n",
       "  </thead>\n",
       "  <tbody>\n",
       "    <tr>\n",
       "      <th>0</th>\n",
       "      <td>158023</td>\n",
       "      <td>L. Messi</td>\n",
       "      <td>31</td>\n",
       "      <td>https://cdn.sofifa.org/players/4/19/158023.png</td>\n",
       "      <td>Argentina</td>\n",
       "      <td>https://cdn.sofifa.org/flags/52.png</td>\n",
       "      <td>94</td>\n",
       "      <td>94</td>\n",
       "      <td>FC Barcelona</td>\n",
       "      <td>https://cdn.sofifa.org/teams/2/light/241.png</td>\n",
       "      <td>...</td>\n",
       "      <td>96.0</td>\n",
       "      <td>33.0</td>\n",
       "      <td>28.0</td>\n",
       "      <td>26.0</td>\n",
       "      <td>6.0</td>\n",
       "      <td>11.0</td>\n",
       "      <td>15.0</td>\n",
       "      <td>14.0</td>\n",
       "      <td>8.0</td>\n",
       "      <td>€226.5M</td>\n",
       "    </tr>\n",
       "    <tr>\n",
       "      <th>1</th>\n",
       "      <td>20801</td>\n",
       "      <td>Cristiano Ronaldo</td>\n",
       "      <td>33</td>\n",
       "      <td>https://cdn.sofifa.org/players/4/19/20801.png</td>\n",
       "      <td>Portugal</td>\n",
       "      <td>https://cdn.sofifa.org/flags/38.png</td>\n",
       "      <td>94</td>\n",
       "      <td>94</td>\n",
       "      <td>Juventus</td>\n",
       "      <td>https://cdn.sofifa.org/teams/2/light/45.png</td>\n",
       "      <td>...</td>\n",
       "      <td>95.0</td>\n",
       "      <td>28.0</td>\n",
       "      <td>31.0</td>\n",
       "      <td>23.0</td>\n",
       "      <td>7.0</td>\n",
       "      <td>11.0</td>\n",
       "      <td>15.0</td>\n",
       "      <td>14.0</td>\n",
       "      <td>11.0</td>\n",
       "      <td>€127.1M</td>\n",
       "    </tr>\n",
       "    <tr>\n",
       "      <th>2</th>\n",
       "      <td>190871</td>\n",
       "      <td>Neymar Jr</td>\n",
       "      <td>26</td>\n",
       "      <td>https://cdn.sofifa.org/players/4/19/190871.png</td>\n",
       "      <td>Brazil</td>\n",
       "      <td>https://cdn.sofifa.org/flags/54.png</td>\n",
       "      <td>92</td>\n",
       "      <td>93</td>\n",
       "      <td>Paris Saint-Germain</td>\n",
       "      <td>https://cdn.sofifa.org/teams/2/light/73.png</td>\n",
       "      <td>...</td>\n",
       "      <td>94.0</td>\n",
       "      <td>27.0</td>\n",
       "      <td>24.0</td>\n",
       "      <td>33.0</td>\n",
       "      <td>9.0</td>\n",
       "      <td>9.0</td>\n",
       "      <td>15.0</td>\n",
       "      <td>15.0</td>\n",
       "      <td>11.0</td>\n",
       "      <td>€228.1M</td>\n",
       "    </tr>\n",
       "    <tr>\n",
       "      <th>3</th>\n",
       "      <td>193080</td>\n",
       "      <td>De Gea</td>\n",
       "      <td>27</td>\n",
       "      <td>https://cdn.sofifa.org/players/4/19/193080.png</td>\n",
       "      <td>Spain</td>\n",
       "      <td>https://cdn.sofifa.org/flags/45.png</td>\n",
       "      <td>91</td>\n",
       "      <td>93</td>\n",
       "      <td>Manchester United</td>\n",
       "      <td>https://cdn.sofifa.org/teams/2/light/11.png</td>\n",
       "      <td>...</td>\n",
       "      <td>68.0</td>\n",
       "      <td>15.0</td>\n",
       "      <td>21.0</td>\n",
       "      <td>13.0</td>\n",
       "      <td>90.0</td>\n",
       "      <td>85.0</td>\n",
       "      <td>87.0</td>\n",
       "      <td>88.0</td>\n",
       "      <td>94.0</td>\n",
       "      <td>€138.6M</td>\n",
       "    </tr>\n",
       "    <tr>\n",
       "      <th>4</th>\n",
       "      <td>192985</td>\n",
       "      <td>K. De Bruyne</td>\n",
       "      <td>27</td>\n",
       "      <td>https://cdn.sofifa.org/players/4/19/192985.png</td>\n",
       "      <td>Belgium</td>\n",
       "      <td>https://cdn.sofifa.org/flags/7.png</td>\n",
       "      <td>91</td>\n",
       "      <td>92</td>\n",
       "      <td>Manchester City</td>\n",
       "      <td>https://cdn.sofifa.org/teams/2/light/10.png</td>\n",
       "      <td>...</td>\n",
       "      <td>88.0</td>\n",
       "      <td>68.0</td>\n",
       "      <td>58.0</td>\n",
       "      <td>51.0</td>\n",
       "      <td>15.0</td>\n",
       "      <td>13.0</td>\n",
       "      <td>5.0</td>\n",
       "      <td>10.0</td>\n",
       "      <td>13.0</td>\n",
       "      <td>€196.4M</td>\n",
       "    </tr>\n",
       "    <tr>\n",
       "      <th>...</th>\n",
       "      <td>...</td>\n",
       "      <td>...</td>\n",
       "      <td>...</td>\n",
       "      <td>...</td>\n",
       "      <td>...</td>\n",
       "      <td>...</td>\n",
       "      <td>...</td>\n",
       "      <td>...</td>\n",
       "      <td>...</td>\n",
       "      <td>...</td>\n",
       "      <td>...</td>\n",
       "      <td>...</td>\n",
       "      <td>...</td>\n",
       "      <td>...</td>\n",
       "      <td>...</td>\n",
       "      <td>...</td>\n",
       "      <td>...</td>\n",
       "      <td>...</td>\n",
       "      <td>...</td>\n",
       "      <td>...</td>\n",
       "      <td>...</td>\n",
       "    </tr>\n",
       "    <tr>\n",
       "      <th>18202</th>\n",
       "      <td>238813</td>\n",
       "      <td>J. Lundstram</td>\n",
       "      <td>19</td>\n",
       "      <td>https://cdn.sofifa.org/players/4/19/238813.png</td>\n",
       "      <td>England</td>\n",
       "      <td>https://cdn.sofifa.org/flags/14.png</td>\n",
       "      <td>47</td>\n",
       "      <td>65</td>\n",
       "      <td>Crewe Alexandra</td>\n",
       "      <td>https://cdn.sofifa.org/teams/2/light/121.png</td>\n",
       "      <td>...</td>\n",
       "      <td>45.0</td>\n",
       "      <td>40.0</td>\n",
       "      <td>48.0</td>\n",
       "      <td>47.0</td>\n",
       "      <td>10.0</td>\n",
       "      <td>13.0</td>\n",
       "      <td>7.0</td>\n",
       "      <td>8.0</td>\n",
       "      <td>9.0</td>\n",
       "      <td>€143K</td>\n",
       "    </tr>\n",
       "    <tr>\n",
       "      <th>18203</th>\n",
       "      <td>243165</td>\n",
       "      <td>N. Christoffersson</td>\n",
       "      <td>19</td>\n",
       "      <td>https://cdn.sofifa.org/players/4/19/243165.png</td>\n",
       "      <td>Sweden</td>\n",
       "      <td>https://cdn.sofifa.org/flags/46.png</td>\n",
       "      <td>47</td>\n",
       "      <td>63</td>\n",
       "      <td>Trelleborgs FF</td>\n",
       "      <td>https://cdn.sofifa.org/teams/2/light/703.png</td>\n",
       "      <td>...</td>\n",
       "      <td>42.0</td>\n",
       "      <td>22.0</td>\n",
       "      <td>15.0</td>\n",
       "      <td>19.0</td>\n",
       "      <td>10.0</td>\n",
       "      <td>9.0</td>\n",
       "      <td>9.0</td>\n",
       "      <td>5.0</td>\n",
       "      <td>12.0</td>\n",
       "      <td>€113K</td>\n",
       "    </tr>\n",
       "    <tr>\n",
       "      <th>18204</th>\n",
       "      <td>241638</td>\n",
       "      <td>B. Worman</td>\n",
       "      <td>16</td>\n",
       "      <td>https://cdn.sofifa.org/players/4/19/241638.png</td>\n",
       "      <td>England</td>\n",
       "      <td>https://cdn.sofifa.org/flags/14.png</td>\n",
       "      <td>47</td>\n",
       "      <td>67</td>\n",
       "      <td>Cambridge United</td>\n",
       "      <td>https://cdn.sofifa.org/teams/2/light/1944.png</td>\n",
       "      <td>...</td>\n",
       "      <td>41.0</td>\n",
       "      <td>32.0</td>\n",
       "      <td>13.0</td>\n",
       "      <td>11.0</td>\n",
       "      <td>6.0</td>\n",
       "      <td>5.0</td>\n",
       "      <td>10.0</td>\n",
       "      <td>6.0</td>\n",
       "      <td>13.0</td>\n",
       "      <td>€165K</td>\n",
       "    </tr>\n",
       "    <tr>\n",
       "      <th>18205</th>\n",
       "      <td>246268</td>\n",
       "      <td>D. Walker-Rice</td>\n",
       "      <td>17</td>\n",
       "      <td>https://cdn.sofifa.org/players/4/19/246268.png</td>\n",
       "      <td>England</td>\n",
       "      <td>https://cdn.sofifa.org/flags/14.png</td>\n",
       "      <td>47</td>\n",
       "      <td>66</td>\n",
       "      <td>Tranmere Rovers</td>\n",
       "      <td>https://cdn.sofifa.org/teams/2/light/15048.png</td>\n",
       "      <td>...</td>\n",
       "      <td>46.0</td>\n",
       "      <td>20.0</td>\n",
       "      <td>25.0</td>\n",
       "      <td>27.0</td>\n",
       "      <td>14.0</td>\n",
       "      <td>6.0</td>\n",
       "      <td>14.0</td>\n",
       "      <td>8.0</td>\n",
       "      <td>9.0</td>\n",
       "      <td>€143K</td>\n",
       "    </tr>\n",
       "    <tr>\n",
       "      <th>18206</th>\n",
       "      <td>246269</td>\n",
       "      <td>G. Nugent</td>\n",
       "      <td>16</td>\n",
       "      <td>https://cdn.sofifa.org/players/4/19/246269.png</td>\n",
       "      <td>England</td>\n",
       "      <td>https://cdn.sofifa.org/flags/14.png</td>\n",
       "      <td>46</td>\n",
       "      <td>66</td>\n",
       "      <td>Tranmere Rovers</td>\n",
       "      <td>https://cdn.sofifa.org/teams/2/light/15048.png</td>\n",
       "      <td>...</td>\n",
       "      <td>43.0</td>\n",
       "      <td>40.0</td>\n",
       "      <td>43.0</td>\n",
       "      <td>50.0</td>\n",
       "      <td>10.0</td>\n",
       "      <td>15.0</td>\n",
       "      <td>9.0</td>\n",
       "      <td>12.0</td>\n",
       "      <td>9.0</td>\n",
       "      <td>€165K</td>\n",
       "    </tr>\n",
       "  </tbody>\n",
       "</table>\n",
       "<p>18207 rows × 60 columns</p>\n",
       "</div>"
      ],
      "text/plain": [
       "           ID                Name  Age  \\\n",
       "0      158023            L. Messi   31   \n",
       "1       20801   Cristiano Ronaldo   33   \n",
       "2      190871           Neymar Jr   26   \n",
       "3      193080              De Gea   27   \n",
       "4      192985        K. De Bruyne   27   \n",
       "...       ...                 ...  ...   \n",
       "18202  238813        J. Lundstram   19   \n",
       "18203  243165  N. Christoffersson   19   \n",
       "18204  241638           B. Worman   16   \n",
       "18205  246268      D. Walker-Rice   17   \n",
       "18206  246269           G. Nugent   16   \n",
       "\n",
       "                                                Photo Nationality  \\\n",
       "0      https://cdn.sofifa.org/players/4/19/158023.png   Argentina   \n",
       "1       https://cdn.sofifa.org/players/4/19/20801.png    Portugal   \n",
       "2      https://cdn.sofifa.org/players/4/19/190871.png      Brazil   \n",
       "3      https://cdn.sofifa.org/players/4/19/193080.png       Spain   \n",
       "4      https://cdn.sofifa.org/players/4/19/192985.png     Belgium   \n",
       "...                                               ...         ...   \n",
       "18202  https://cdn.sofifa.org/players/4/19/238813.png     England   \n",
       "18203  https://cdn.sofifa.org/players/4/19/243165.png      Sweden   \n",
       "18204  https://cdn.sofifa.org/players/4/19/241638.png     England   \n",
       "18205  https://cdn.sofifa.org/players/4/19/246268.png     England   \n",
       "18206  https://cdn.sofifa.org/players/4/19/246269.png     England   \n",
       "\n",
       "                                      Flag  Overall  Potential  \\\n",
       "0      https://cdn.sofifa.org/flags/52.png       94         94   \n",
       "1      https://cdn.sofifa.org/flags/38.png       94         94   \n",
       "2      https://cdn.sofifa.org/flags/54.png       92         93   \n",
       "3      https://cdn.sofifa.org/flags/45.png       91         93   \n",
       "4       https://cdn.sofifa.org/flags/7.png       91         92   \n",
       "...                                    ...      ...        ...   \n",
       "18202  https://cdn.sofifa.org/flags/14.png       47         65   \n",
       "18203  https://cdn.sofifa.org/flags/46.png       47         63   \n",
       "18204  https://cdn.sofifa.org/flags/14.png       47         67   \n",
       "18205  https://cdn.sofifa.org/flags/14.png       47         66   \n",
       "18206  https://cdn.sofifa.org/flags/14.png       46         66   \n",
       "\n",
       "                      Club                                       Club Logo  \\\n",
       "0             FC Barcelona    https://cdn.sofifa.org/teams/2/light/241.png   \n",
       "1                 Juventus     https://cdn.sofifa.org/teams/2/light/45.png   \n",
       "2      Paris Saint-Germain     https://cdn.sofifa.org/teams/2/light/73.png   \n",
       "3        Manchester United     https://cdn.sofifa.org/teams/2/light/11.png   \n",
       "4          Manchester City     https://cdn.sofifa.org/teams/2/light/10.png   \n",
       "...                    ...                                             ...   \n",
       "18202      Crewe Alexandra    https://cdn.sofifa.org/teams/2/light/121.png   \n",
       "18203       Trelleborgs FF    https://cdn.sofifa.org/teams/2/light/703.png   \n",
       "18204     Cambridge United   https://cdn.sofifa.org/teams/2/light/1944.png   \n",
       "18205      Tranmere Rovers  https://cdn.sofifa.org/teams/2/light/15048.png   \n",
       "18206      Tranmere Rovers  https://cdn.sofifa.org/teams/2/light/15048.png   \n",
       "\n",
       "       ... Composure Marking StandingTackle  SlidingTackle  GKDiving  \\\n",
       "0      ...      96.0    33.0           28.0           26.0       6.0   \n",
       "1      ...      95.0    28.0           31.0           23.0       7.0   \n",
       "2      ...      94.0    27.0           24.0           33.0       9.0   \n",
       "3      ...      68.0    15.0           21.0           13.0      90.0   \n",
       "4      ...      88.0    68.0           58.0           51.0      15.0   \n",
       "...    ...       ...     ...            ...            ...       ...   \n",
       "18202  ...      45.0    40.0           48.0           47.0      10.0   \n",
       "18203  ...      42.0    22.0           15.0           19.0      10.0   \n",
       "18204  ...      41.0    32.0           13.0           11.0       6.0   \n",
       "18205  ...      46.0    20.0           25.0           27.0      14.0   \n",
       "18206  ...      43.0    40.0           43.0           50.0      10.0   \n",
       "\n",
       "       GKHandling GKKicking GKPositioning GKReflexes  Release Clause  \n",
       "0            11.0      15.0          14.0        8.0         €226.5M  \n",
       "1            11.0      15.0          14.0       11.0         €127.1M  \n",
       "2             9.0      15.0          15.0       11.0         €228.1M  \n",
       "3            85.0      87.0          88.0       94.0         €138.6M  \n",
       "4            13.0       5.0          10.0       13.0         €196.4M  \n",
       "...           ...       ...           ...        ...             ...  \n",
       "18202        13.0       7.0           8.0        9.0           €143K  \n",
       "18203         9.0       9.0           5.0       12.0           €113K  \n",
       "18204         5.0      10.0           6.0       13.0           €165K  \n",
       "18205         6.0      14.0           8.0        9.0           €143K  \n",
       "18206        15.0       9.0          12.0        9.0           €165K  \n",
       "\n",
       "[18207 rows x 60 columns]"
      ]
     },
     "execution_count": 4,
     "metadata": {},
     "output_type": "execute_result"
    }
   ],
   "source": [
    "data"
   ]
  },
  {
   "cell_type": "code",
   "execution_count": 5,
   "metadata": {},
   "outputs": [],
   "source": [
    "data2 = pd.read_csv('fifa_ variable_information.csv')"
   ]
  },
  {
   "cell_type": "code",
   "execution_count": 6,
   "metadata": {
    "scrolled": false
   },
   "outputs": [
    {
     "data": {
      "text/html": [
       "<div>\n",
       "<style scoped>\n",
       "    .dataframe tbody tr th:only-of-type {\n",
       "        vertical-align: middle;\n",
       "    }\n",
       "\n",
       "    .dataframe tbody tr th {\n",
       "        vertical-align: top;\n",
       "    }\n",
       "\n",
       "    .dataframe thead th {\n",
       "        text-align: right;\n",
       "    }\n",
       "</style>\n",
       "<table border=\"1\" class=\"dataframe\">\n",
       "  <thead>\n",
       "    <tr style=\"text-align: right;\">\n",
       "      <th></th>\n",
       "      <th>ID</th>\n",
       "      <th>unique id for every player</th>\n",
       "    </tr>\n",
       "  </thead>\n",
       "  <tbody>\n",
       "    <tr>\n",
       "      <th>0</th>\n",
       "      <td>Name</td>\n",
       "      <td>name</td>\n",
       "    </tr>\n",
       "    <tr>\n",
       "      <th>1</th>\n",
       "      <td>Age</td>\n",
       "      <td>age</td>\n",
       "    </tr>\n",
       "    <tr>\n",
       "      <th>2</th>\n",
       "      <td>Photo</td>\n",
       "      <td>url to the player's photo</td>\n",
       "    </tr>\n",
       "    <tr>\n",
       "      <th>3</th>\n",
       "      <td>Nationality</td>\n",
       "      <td>nationality</td>\n",
       "    </tr>\n",
       "    <tr>\n",
       "      <th>4</th>\n",
       "      <td>Flag</td>\n",
       "      <td>url to players's country flag</td>\n",
       "    </tr>\n",
       "    <tr>\n",
       "      <th>5</th>\n",
       "      <td>Overall</td>\n",
       "      <td>overall rating</td>\n",
       "    </tr>\n",
       "    <tr>\n",
       "      <th>6</th>\n",
       "      <td>Potential</td>\n",
       "      <td>potential rating</td>\n",
       "    </tr>\n",
       "    <tr>\n",
       "      <th>7</th>\n",
       "      <td>Club</td>\n",
       "      <td>current club</td>\n",
       "    </tr>\n",
       "    <tr>\n",
       "      <th>8</th>\n",
       "      <td>Club Logo</td>\n",
       "      <td>url to club logo</td>\n",
       "    </tr>\n",
       "    <tr>\n",
       "      <th>9</th>\n",
       "      <td>Value</td>\n",
       "      <td>current market value</td>\n",
       "    </tr>\n",
       "    <tr>\n",
       "      <th>10</th>\n",
       "      <td>Wage</td>\n",
       "      <td>current wage</td>\n",
       "    </tr>\n",
       "    <tr>\n",
       "      <th>11</th>\n",
       "      <td>Preferred Foot</td>\n",
       "      <td>left/right</td>\n",
       "    </tr>\n",
       "    <tr>\n",
       "      <th>12</th>\n",
       "      <td>International Reputation</td>\n",
       "      <td>rating on scale of 5</td>\n",
       "    </tr>\n",
       "    <tr>\n",
       "      <th>13</th>\n",
       "      <td>Weak Foot</td>\n",
       "      <td>rating on scale of 5</td>\n",
       "    </tr>\n",
       "    <tr>\n",
       "      <th>14</th>\n",
       "      <td>Skill Moves</td>\n",
       "      <td>rating on scale of 5</td>\n",
       "    </tr>\n",
       "    <tr>\n",
       "      <th>15</th>\n",
       "      <td>Work Rate</td>\n",
       "      <td>attack work rate/defence work rate</td>\n",
       "    </tr>\n",
       "    <tr>\n",
       "      <th>16</th>\n",
       "      <td>Body Type</td>\n",
       "      <td>body type of player</td>\n",
       "    </tr>\n",
       "    <tr>\n",
       "      <th>17</th>\n",
       "      <td>Position</td>\n",
       "      <td>position on the pitch</td>\n",
       "    </tr>\n",
       "    <tr>\n",
       "      <th>18</th>\n",
       "      <td>Jersey Number</td>\n",
       "      <td>jersey number</td>\n",
       "    </tr>\n",
       "    <tr>\n",
       "      <th>19</th>\n",
       "      <td>Joined</td>\n",
       "      <td>joined date</td>\n",
       "    </tr>\n",
       "    <tr>\n",
       "      <th>20</th>\n",
       "      <td>Loaned From</td>\n",
       "      <td>club name if applicable</td>\n",
       "    </tr>\n",
       "    <tr>\n",
       "      <th>21</th>\n",
       "      <td>Contract Valid Until</td>\n",
       "      <td>contract end date</td>\n",
       "    </tr>\n",
       "    <tr>\n",
       "      <th>22</th>\n",
       "      <td>Height</td>\n",
       "      <td>height of the player</td>\n",
       "    </tr>\n",
       "    <tr>\n",
       "      <th>23</th>\n",
       "      <td>Weight</td>\n",
       "      <td>weight of the player</td>\n",
       "    </tr>\n",
       "    <tr>\n",
       "      <th>24</th>\n",
       "      <td>Crossing</td>\n",
       "      <td>rating on scale of 100</td>\n",
       "    </tr>\n",
       "    <tr>\n",
       "      <th>25</th>\n",
       "      <td>Finishing</td>\n",
       "      <td>rating on scale of 100</td>\n",
       "    </tr>\n",
       "    <tr>\n",
       "      <th>26</th>\n",
       "      <td>HeadingAccuracy</td>\n",
       "      <td>rating on scale of 100</td>\n",
       "    </tr>\n",
       "    <tr>\n",
       "      <th>27</th>\n",
       "      <td>ShortPassing</td>\n",
       "      <td>rating on scale of 100</td>\n",
       "    </tr>\n",
       "    <tr>\n",
       "      <th>28</th>\n",
       "      <td>Volleys</td>\n",
       "      <td>rating on scale of 100</td>\n",
       "    </tr>\n",
       "    <tr>\n",
       "      <th>29</th>\n",
       "      <td>Dribbling</td>\n",
       "      <td>rating on scale of 100</td>\n",
       "    </tr>\n",
       "    <tr>\n",
       "      <th>30</th>\n",
       "      <td>Curve</td>\n",
       "      <td>rating on scale of 100</td>\n",
       "    </tr>\n",
       "    <tr>\n",
       "      <th>31</th>\n",
       "      <td>FKAccuracy</td>\n",
       "      <td>rating on scale of 100</td>\n",
       "    </tr>\n",
       "    <tr>\n",
       "      <th>32</th>\n",
       "      <td>LongPassing</td>\n",
       "      <td>rating on scale of 100</td>\n",
       "    </tr>\n",
       "    <tr>\n",
       "      <th>33</th>\n",
       "      <td>BallControl</td>\n",
       "      <td>rating on scale of 100</td>\n",
       "    </tr>\n",
       "    <tr>\n",
       "      <th>34</th>\n",
       "      <td>Acceleration</td>\n",
       "      <td>rating on scale of 100</td>\n",
       "    </tr>\n",
       "    <tr>\n",
       "      <th>35</th>\n",
       "      <td>SprintSpeed</td>\n",
       "      <td>rating on scale of 100</td>\n",
       "    </tr>\n",
       "    <tr>\n",
       "      <th>36</th>\n",
       "      <td>Agility</td>\n",
       "      <td>rating on scale of 100</td>\n",
       "    </tr>\n",
       "    <tr>\n",
       "      <th>37</th>\n",
       "      <td>Reactions</td>\n",
       "      <td>rating on scale of 100\\</td>\n",
       "    </tr>\n",
       "    <tr>\n",
       "      <th>38</th>\n",
       "      <td>Balance</td>\n",
       "      <td>rating on scale of 100</td>\n",
       "    </tr>\n",
       "    <tr>\n",
       "      <th>39</th>\n",
       "      <td>ShotPower</td>\n",
       "      <td>rating on scale of 100</td>\n",
       "    </tr>\n",
       "    <tr>\n",
       "      <th>40</th>\n",
       "      <td>Jumping</td>\n",
       "      <td>rating on scale of 100</td>\n",
       "    </tr>\n",
       "    <tr>\n",
       "      <th>41</th>\n",
       "      <td>Stamina</td>\n",
       "      <td>rating on scale of 100</td>\n",
       "    </tr>\n",
       "    <tr>\n",
       "      <th>42</th>\n",
       "      <td>Strength</td>\n",
       "      <td>rating on scale of 100</td>\n",
       "    </tr>\n",
       "    <tr>\n",
       "      <th>43</th>\n",
       "      <td>LongShots</td>\n",
       "      <td>rating on scale of 100</td>\n",
       "    </tr>\n",
       "    <tr>\n",
       "      <th>44</th>\n",
       "      <td>Aggression</td>\n",
       "      <td>rating on scale of 100</td>\n",
       "    </tr>\n",
       "    <tr>\n",
       "      <th>45</th>\n",
       "      <td>Interceptions</td>\n",
       "      <td>rating on scale of 100</td>\n",
       "    </tr>\n",
       "    <tr>\n",
       "      <th>46</th>\n",
       "      <td>Positioning</td>\n",
       "      <td>rating on scale of 100</td>\n",
       "    </tr>\n",
       "    <tr>\n",
       "      <th>47</th>\n",
       "      <td>Vision</td>\n",
       "      <td>rating on scale of 100</td>\n",
       "    </tr>\n",
       "    <tr>\n",
       "      <th>48</th>\n",
       "      <td>Penalties</td>\n",
       "      <td>rating on scale of 100</td>\n",
       "    </tr>\n",
       "    <tr>\n",
       "      <th>49</th>\n",
       "      <td>Composure</td>\n",
       "      <td>rating on scale of 100</td>\n",
       "    </tr>\n",
       "    <tr>\n",
       "      <th>50</th>\n",
       "      <td>Marking</td>\n",
       "      <td>rating on scale of 100</td>\n",
       "    </tr>\n",
       "    <tr>\n",
       "      <th>51</th>\n",
       "      <td>StandingTackle</td>\n",
       "      <td>rating on scale of 100</td>\n",
       "    </tr>\n",
       "    <tr>\n",
       "      <th>52</th>\n",
       "      <td>SlidingTackle</td>\n",
       "      <td>rating on scale of 100</td>\n",
       "    </tr>\n",
       "    <tr>\n",
       "      <th>53</th>\n",
       "      <td>GKDiving</td>\n",
       "      <td>rating on scale of 100</td>\n",
       "    </tr>\n",
       "    <tr>\n",
       "      <th>54</th>\n",
       "      <td>GKHandling</td>\n",
       "      <td>rating on scale of 100</td>\n",
       "    </tr>\n",
       "    <tr>\n",
       "      <th>55</th>\n",
       "      <td>GKKicking</td>\n",
       "      <td>rating on scale of 100</td>\n",
       "    </tr>\n",
       "    <tr>\n",
       "      <th>56</th>\n",
       "      <td>GKPositioning</td>\n",
       "      <td>rating on scale of 100</td>\n",
       "    </tr>\n",
       "    <tr>\n",
       "      <th>57</th>\n",
       "      <td>GKReflexes</td>\n",
       "      <td>rating on scale of 100</td>\n",
       "    </tr>\n",
       "    <tr>\n",
       "      <th>58</th>\n",
       "      <td>Release Clause</td>\n",
       "      <td>release clause value</td>\n",
       "    </tr>\n",
       "  </tbody>\n",
       "</table>\n",
       "</div>"
      ],
      "text/plain": [
       "                          ID          unique id for every player\n",
       "0                       Name                                name\n",
       "1                        Age                                 age\n",
       "2                      Photo           url to the player's photo\n",
       "3                Nationality                         nationality\n",
       "4                       Flag       url to players's country flag\n",
       "5                    Overall                      overall rating\n",
       "6                  Potential                    potential rating\n",
       "7                       Club                        current club\n",
       "8                  Club Logo                    url to club logo\n",
       "9                      Value                current market value\n",
       "10                      Wage                        current wage\n",
       "11            Preferred Foot                          left/right\n",
       "12  International Reputation                rating on scale of 5\n",
       "13                 Weak Foot                rating on scale of 5\n",
       "14               Skill Moves                rating on scale of 5\n",
       "15                 Work Rate  attack work rate/defence work rate\n",
       "16                 Body Type                 body type of player\n",
       "17                  Position               position on the pitch\n",
       "18             Jersey Number                       jersey number\n",
       "19                    Joined                         joined date\n",
       "20               Loaned From             club name if applicable\n",
       "21      Contract Valid Until                   contract end date\n",
       "22                    Height                height of the player\n",
       "23                    Weight                weight of the player\n",
       "24                  Crossing              rating on scale of 100\n",
       "25                 Finishing              rating on scale of 100\n",
       "26           HeadingAccuracy              rating on scale of 100\n",
       "27              ShortPassing              rating on scale of 100\n",
       "28                   Volleys              rating on scale of 100\n",
       "29                 Dribbling              rating on scale of 100\n",
       "30                     Curve              rating on scale of 100\n",
       "31                FKAccuracy              rating on scale of 100\n",
       "32               LongPassing              rating on scale of 100\n",
       "33               BallControl              rating on scale of 100\n",
       "34              Acceleration              rating on scale of 100\n",
       "35               SprintSpeed              rating on scale of 100\n",
       "36                   Agility              rating on scale of 100\n",
       "37                 Reactions             rating on scale of 100\\\n",
       "38                   Balance              rating on scale of 100\n",
       "39                 ShotPower              rating on scale of 100\n",
       "40                   Jumping              rating on scale of 100\n",
       "41                   Stamina              rating on scale of 100\n",
       "42                  Strength              rating on scale of 100\n",
       "43                 LongShots              rating on scale of 100\n",
       "44                Aggression              rating on scale of 100\n",
       "45             Interceptions              rating on scale of 100\n",
       "46               Positioning              rating on scale of 100\n",
       "47                    Vision              rating on scale of 100\n",
       "48                 Penalties              rating on scale of 100\n",
       "49                 Composure              rating on scale of 100\n",
       "50                   Marking              rating on scale of 100\n",
       "51            StandingTackle              rating on scale of 100\n",
       "52             SlidingTackle              rating on scale of 100\n",
       "53                  GKDiving              rating on scale of 100\n",
       "54                GKHandling              rating on scale of 100\n",
       "55                 GKKicking              rating on scale of 100\n",
       "56             GKPositioning              rating on scale of 100\n",
       "57                GKReflexes              rating on scale of 100\n",
       "58            Release Clause                release clause value"
      ]
     },
     "execution_count": 6,
     "metadata": {},
     "output_type": "execute_result"
    }
   ],
   "source": [
    "data2"
   ]
  },
  {
   "cell_type": "markdown",
   "metadata": {},
   "source": [
    "2.\tDrop any columns that you deem unnecessary for analysis."
   ]
  },
  {
   "cell_type": "code",
   "execution_count": 7,
   "metadata": {},
   "outputs": [],
   "source": [
    "data = data.drop(columns=[\"Loaned From\",\"Photo\",\"Flag\",\"Club Logo\"])"
   ]
  },
  {
   "cell_type": "code",
   "execution_count": 8,
   "metadata": {
    "scrolled": true
   },
   "outputs": [],
   "source": [
    "#data = data.drop(columns = ['Photo','Flag','Club Logo', 'Preferred Foot', 'Weak Foot', 'Skill Moves', 'Body Type', 'Jersey Number',\n",
    "                   # 'Loaned From', 'Crossing', 'Finishing', 'HeadingAccuracy', 'ShortPassing', 'Volleys', 'Dribbling', 'Curve',\n",
    "                    #'FKAccuracy', 'LongPassing', 'BallControl',  'Acceleration', 'SprintSpeed', 'Agility', 'Reactions', 'Balance',\n",
    "                    #'ShotPower', 'Jumping', 'Stamina', 'Strength', 'LongShots', 'Aggression', 'Interceptions', 'Vision', 'Penalties',\n",
    "                    #'Composure', 'Marking', 'StandingTackle', 'SlidingTackle', 'GKDiving', 'GKHandling', 'GKKicking', 'GKPositioning',\n",
    "                    #'GKReflexes'])"
   ]
  },
  {
   "cell_type": "code",
   "execution_count": 108,
   "metadata": {},
   "outputs": [],
   "source": [
    "#Its also better to drop all the above columns for EDA. But for ML Model, its better to keep it."
   ]
  },
  {
   "cell_type": "code",
   "execution_count": 9,
   "metadata": {
    "scrolled": true
   },
   "outputs": [
    {
     "data": {
      "text/plain": [
       "Index(['ID', 'Name', 'Age', 'Nationality', 'Overall', 'Potential', 'Club',\n",
       "       'Value', 'Wage', 'Preferred Foot', 'International Reputation',\n",
       "       'Weak Foot', 'Skill Moves', 'Work Rate', 'Body Type', 'Position',\n",
       "       'Jersey Number', 'Joined', 'Contract Valid Until', 'Height', 'Weight',\n",
       "       'Crossing', 'Finishing', 'HeadingAccuracy', 'ShortPassing', 'Volleys',\n",
       "       'Dribbling', 'Curve', 'FKAccuracy', 'LongPassing', 'BallControl',\n",
       "       'Acceleration', 'SprintSpeed', 'Agility', 'Reactions', 'Balance',\n",
       "       'ShotPower', 'Jumping', 'Stamina', 'Strength', 'LongShots',\n",
       "       'Aggression', 'Interceptions', 'Positioning', 'Vision', 'Penalties',\n",
       "       'Composure', 'Marking', 'StandingTackle', 'SlidingTackle', 'GKDiving',\n",
       "       'GKHandling', 'GKKicking', 'GKPositioning', 'GKReflexes',\n",
       "       'Release Clause'],\n",
       "      dtype='object')"
      ]
     },
     "execution_count": 9,
     "metadata": {},
     "output_type": "execute_result"
    }
   ],
   "source": [
    "data.columns"
   ]
  },
  {
   "cell_type": "code",
   "execution_count": 10,
   "metadata": {
    "scrolled": true
   },
   "outputs": [],
   "source": [
    "data = data.drop(columns = [ 'ID', 'Work Rate'])"
   ]
  },
  {
   "cell_type": "code",
   "execution_count": 11,
   "metadata": {},
   "outputs": [
    {
     "data": {
      "text/plain": [
       "Index(['Name', 'Age', 'Nationality', 'Overall', 'Potential', 'Club', 'Value',\n",
       "       'Wage', 'Preferred Foot', 'International Reputation', 'Weak Foot',\n",
       "       'Skill Moves', 'Body Type', 'Position', 'Jersey Number', 'Joined',\n",
       "       'Contract Valid Until', 'Height', 'Weight', 'Crossing', 'Finishing',\n",
       "       'HeadingAccuracy', 'ShortPassing', 'Volleys', 'Dribbling', 'Curve',\n",
       "       'FKAccuracy', 'LongPassing', 'BallControl', 'Acceleration',\n",
       "       'SprintSpeed', 'Agility', 'Reactions', 'Balance', 'ShotPower',\n",
       "       'Jumping', 'Stamina', 'Strength', 'LongShots', 'Aggression',\n",
       "       'Interceptions', 'Positioning', 'Vision', 'Penalties', 'Composure',\n",
       "       'Marking', 'StandingTackle', 'SlidingTackle', 'GKDiving', 'GKHandling',\n",
       "       'GKKicking', 'GKPositioning', 'GKReflexes', 'Release Clause'],\n",
       "      dtype='object')"
      ]
     },
     "execution_count": 11,
     "metadata": {},
     "output_type": "execute_result"
    }
   ],
   "source": [
    "data.columns"
   ]
  },
  {
   "cell_type": "markdown",
   "metadata": {},
   "source": [
    "3.\tThe following columns need to be converted for further analysis:"
   ]
  },
  {
   "cell_type": "markdown",
   "metadata": {},
   "source": [
    "1. Value"
   ]
  },
  {
   "cell_type": "code",
   "execution_count": 12,
   "metadata": {},
   "outputs": [
    {
     "data": {
      "text/plain": [
       "0        €110.5M\n",
       "1           €77M\n",
       "2        €118.5M\n",
       "3           €72M\n",
       "4          €102M\n",
       "          ...   \n",
       "18202       €60K\n",
       "18203       €60K\n",
       "18204       €60K\n",
       "18205       €60K\n",
       "18206       €60K\n",
       "Name: Value, Length: 18207, dtype: object"
      ]
     },
     "execution_count": 12,
     "metadata": {},
     "output_type": "execute_result"
    }
   ],
   "source": [
    "data['Value']"
   ]
  },
  {
   "cell_type": "code",
   "execution_count": 13,
   "metadata": {},
   "outputs": [],
   "source": [
    "data['Value'] = data['Value'].replace({'€':''}, regex=True)"
   ]
  },
  {
   "cell_type": "code",
   "execution_count": 14,
   "metadata": {
    "scrolled": false
   },
   "outputs": [
    {
     "data": {
      "text/plain": [
       "0        110.5M\n",
       "1           77M\n",
       "2        118.5M\n",
       "3           72M\n",
       "4          102M\n",
       "          ...  \n",
       "18202       60K\n",
       "18203       60K\n",
       "18204       60K\n",
       "18205       60K\n",
       "18206       60K\n",
       "Name: Value, Length: 18207, dtype: object"
      ]
     },
     "execution_count": 14,
     "metadata": {},
     "output_type": "execute_result"
    }
   ],
   "source": [
    "data['Value']"
   ]
  },
  {
   "cell_type": "code",
   "execution_count": 15,
   "metadata": {},
   "outputs": [],
   "source": [
    "data['Value'] = data['Value'].map(str)"
   ]
  },
  {
   "cell_type": "code",
   "execution_count": 16,
   "metadata": {},
   "outputs": [
    {
     "name": "stderr",
     "output_type": "stream",
     "text": [
      "<ipython-input-16-03d9f2318d55>:3: SettingWithCopyWarning: \n",
      "A value is trying to be set on a copy of a slice from a DataFrame\n",
      "\n",
      "See the caveats in the documentation: https://pandas.pydata.org/pandas-docs/stable/user_guide/indexing.html#returning-a-view-versus-a-copy\n",
      "  data['Value'][i] = float(data['Value'][i].replace('M',''))*1000000\n",
      "<ipython-input-16-03d9f2318d55>:5: SettingWithCopyWarning: \n",
      "A value is trying to be set on a copy of a slice from a DataFrame\n",
      "\n",
      "See the caveats in the documentation: https://pandas.pydata.org/pandas-docs/stable/user_guide/indexing.html#returning-a-view-versus-a-copy\n",
      "  data['Value'][i] = float(data['Value'][i].replace('K',''))*1000\n"
     ]
    }
   ],
   "source": [
    "for i in data.index:\n",
    "    if data['Value'][i][-1]=='M':\n",
    "        data['Value'][i] = float(data['Value'][i].replace('M',''))*1000000\n",
    "    elif data['Value'][i][-1]=='K':\n",
    "        data['Value'][i] = float(data['Value'][i].replace('K',''))*1000"
   ]
  },
  {
   "cell_type": "code",
   "execution_count": 17,
   "metadata": {},
   "outputs": [
    {
     "data": {
      "text/plain": [
       "0        1.105e+08\n",
       "1          7.7e+07\n",
       "2        1.185e+08\n",
       "3          7.2e+07\n",
       "4         1.02e+08\n",
       "           ...    \n",
       "18202        60000\n",
       "18203        60000\n",
       "18204        60000\n",
       "18205        60000\n",
       "18206        60000\n",
       "Name: Value, Length: 18207, dtype: object"
      ]
     },
     "execution_count": 17,
     "metadata": {},
     "output_type": "execute_result"
    }
   ],
   "source": [
    "data['Value']"
   ]
  },
  {
   "cell_type": "code",
   "execution_count": 18,
   "metadata": {},
   "outputs": [],
   "source": [
    "data['Value'] = data['Value'].astype(np.number)"
   ]
  },
  {
   "cell_type": "code",
   "execution_count": 19,
   "metadata": {},
   "outputs": [
    {
     "data": {
      "text/plain": [
       "0        110500000.0\n",
       "1         77000000.0\n",
       "2        118500000.0\n",
       "3         72000000.0\n",
       "4        102000000.0\n",
       "            ...     \n",
       "18202        60000.0\n",
       "18203        60000.0\n",
       "18204        60000.0\n",
       "18205        60000.0\n",
       "18206        60000.0\n",
       "Name: Value, Length: 18207, dtype: float64"
      ]
     },
     "execution_count": 19,
     "metadata": {},
     "output_type": "execute_result"
    }
   ],
   "source": [
    "data['Value']"
   ]
  },
  {
   "cell_type": "markdown",
   "metadata": {},
   "source": [
    "2. Wage"
   ]
  },
  {
   "cell_type": "code",
   "execution_count": 20,
   "metadata": {},
   "outputs": [
    {
     "data": {
      "text/plain": [
       "0        €565K\n",
       "1        €405K\n",
       "2        €290K\n",
       "3        €260K\n",
       "4        €355K\n",
       "         ...  \n",
       "18202      €1K\n",
       "18203      €1K\n",
       "18204      €1K\n",
       "18205      €1K\n",
       "18206      €1K\n",
       "Name: Wage, Length: 18207, dtype: object"
      ]
     },
     "execution_count": 20,
     "metadata": {},
     "output_type": "execute_result"
    }
   ],
   "source": [
    "data['Wage']"
   ]
  },
  {
   "cell_type": "code",
   "execution_count": 21,
   "metadata": {},
   "outputs": [],
   "source": [
    "data['Wage'] = list(map(lambda x : x.replace('€',''),data['Wage']))"
   ]
  },
  {
   "cell_type": "code",
   "execution_count": 22,
   "metadata": {},
   "outputs": [],
   "source": [
    "data['Wage'] = data['Wage'].map(str)"
   ]
  },
  {
   "cell_type": "code",
   "execution_count": 23,
   "metadata": {},
   "outputs": [
    {
     "data": {
      "text/plain": [
       "0        565K\n",
       "1        405K\n",
       "2        290K\n",
       "3        260K\n",
       "4        355K\n",
       "         ... \n",
       "18202      1K\n",
       "18203      1K\n",
       "18204      1K\n",
       "18205      1K\n",
       "18206      1K\n",
       "Name: Wage, Length: 18207, dtype: object"
      ]
     },
     "execution_count": 23,
     "metadata": {},
     "output_type": "execute_result"
    }
   ],
   "source": [
    "data['Wage']"
   ]
  },
  {
   "cell_type": "code",
   "execution_count": 24,
   "metadata": {
    "scrolled": false
   },
   "outputs": [
    {
     "name": "stderr",
     "output_type": "stream",
     "text": [
      "<ipython-input-24-3ce212b9063c>:5: SettingWithCopyWarning: \n",
      "A value is trying to be set on a copy of a slice from a DataFrame\n",
      "\n",
      "See the caveats in the documentation: https://pandas.pydata.org/pandas-docs/stable/user_guide/indexing.html#returning-a-view-versus-a-copy\n",
      "  data['Wage'][i] = float(data['Wage'][i].replace('K',''))*1000\n"
     ]
    }
   ],
   "source": [
    "for i in data.index:\n",
    "    if data['Wage'][i][-1]=='M':\n",
    "        data['Wage'][i] = float(data['Wage'][i].replace('M',''))*1000000\n",
    "    elif data['Wage'][i][-1]=='K':\n",
    "        data['Wage'][i] = float(data['Wage'][i].replace('K',''))*1000 "
   ]
  },
  {
   "cell_type": "code",
   "execution_count": 25,
   "metadata": {
    "scrolled": true
   },
   "outputs": [
    {
     "data": {
      "text/plain": [
       "0        565000\n",
       "1        405000\n",
       "2        290000\n",
       "3        260000\n",
       "4        355000\n",
       "          ...  \n",
       "18202      1000\n",
       "18203      1000\n",
       "18204      1000\n",
       "18205      1000\n",
       "18206      1000\n",
       "Name: Wage, Length: 18207, dtype: object"
      ]
     },
     "execution_count": 25,
     "metadata": {},
     "output_type": "execute_result"
    }
   ],
   "source": [
    " data['Wage']"
   ]
  },
  {
   "cell_type": "code",
   "execution_count": 26,
   "metadata": {},
   "outputs": [],
   "source": [
    "data['Wage'] = data['Wage'].astype(np.number)"
   ]
  },
  {
   "cell_type": "code",
   "execution_count": 27,
   "metadata": {
    "scrolled": false
   },
   "outputs": [
    {
     "data": {
      "text/plain": [
       "0        565000.0\n",
       "1        405000.0\n",
       "2        290000.0\n",
       "3        260000.0\n",
       "4        355000.0\n",
       "           ...   \n",
       "18202      1000.0\n",
       "18203      1000.0\n",
       "18204      1000.0\n",
       "18205      1000.0\n",
       "18206      1000.0\n",
       "Name: Wage, Length: 18207, dtype: float64"
      ]
     },
     "execution_count": 27,
     "metadata": {},
     "output_type": "execute_result"
    }
   ],
   "source": [
    "data['Wage'] "
   ]
  },
  {
   "cell_type": "markdown",
   "metadata": {},
   "source": [
    "3. Joined"
   ]
  },
  {
   "cell_type": "code",
   "execution_count": 28,
   "metadata": {},
   "outputs": [],
   "source": [
    " #data['Joined'] =  data['Joined'].str.split(  expand = True)[2]"
   ]
  },
  {
   "cell_type": "code",
   "execution_count": 29,
   "metadata": {},
   "outputs": [],
   "source": [
    "data.dropna(subset=['Joined'], inplace = True)"
   ]
  },
  {
   "cell_type": "code",
   "execution_count": 30,
   "metadata": {},
   "outputs": [],
   "source": [
    "data['Joined'] = list(map(lambda a : int(a.split(\",\")[-1].replace(\",\",\"\")),data['Joined']))"
   ]
  },
  {
   "cell_type": "code",
   "execution_count": 31,
   "metadata": {},
   "outputs": [
    {
     "data": {
      "text/plain": [
       "0        2004\n",
       "1        2018\n",
       "2        2017\n",
       "3        2011\n",
       "4        2015\n",
       "         ... \n",
       "18202    2017\n",
       "18203    2018\n",
       "18204    2017\n",
       "18205    2018\n",
       "18206    2018\n",
       "Name: Joined, Length: 16654, dtype: int64"
      ]
     },
     "execution_count": 31,
     "metadata": {},
     "output_type": "execute_result"
    }
   ],
   "source": [
    " data['Joined']"
   ]
  },
  {
   "cell_type": "markdown",
   "metadata": {},
   "source": [
    "4 . Contract Valid Until"
   ]
  },
  {
   "cell_type": "code",
   "execution_count": 32,
   "metadata": {},
   "outputs": [],
   "source": [
    "data['Contract Valid Until'] = data['Contract Valid Until'].astype('datetime64[ns]')"
   ]
  },
  {
   "cell_type": "code",
   "execution_count": 33,
   "metadata": {},
   "outputs": [
    {
     "data": {
      "text/plain": [
       "0       2021-01-01\n",
       "1       2022-01-01\n",
       "2       2022-01-01\n",
       "3       2020-01-01\n",
       "4       2023-01-01\n",
       "           ...    \n",
       "18202   2019-01-01\n",
       "18203   2020-01-01\n",
       "18204   2021-01-01\n",
       "18205   2019-01-01\n",
       "18206   2019-01-01\n",
       "Name: Contract Valid Until, Length: 16654, dtype: datetime64[ns]"
      ]
     },
     "execution_count": 33,
     "metadata": {},
     "output_type": "execute_result"
    }
   ],
   "source": [
    "data['Contract Valid Until']"
   ]
  },
  {
   "cell_type": "markdown",
   "metadata": {},
   "source": [
    "5. 'Height'"
   ]
  },
  {
   "cell_type": "code",
   "execution_count": 34,
   "metadata": {},
   "outputs": [
    {
     "data": {
      "text/plain": [
       "0         5'7\n",
       "1         6'2\n",
       "2         5'9\n",
       "3         6'4\n",
       "4        5'11\n",
       "         ... \n",
       "18202     5'9\n",
       "18203     6'3\n",
       "18204     5'8\n",
       "18205    5'10\n",
       "18206    5'10\n",
       "Name: Height, Length: 16654, dtype: object"
      ]
     },
     "execution_count": 34,
     "metadata": {},
     "output_type": "execute_result"
    }
   ],
   "source": [
    "data['Height']"
   ]
  },
  {
   "cell_type": "code",
   "execution_count": 35,
   "metadata": {},
   "outputs": [],
   "source": [
    "data['Height'] = list(map(lambda x : x.replace(\"'\", '.'), data['Height']))"
   ]
  },
  {
   "cell_type": "code",
   "execution_count": 36,
   "metadata": {
    "scrolled": true
   },
   "outputs": [],
   "source": [
    "data['Height'] = data['Height'].astype(float)"
   ]
  },
  {
   "cell_type": "code",
   "execution_count": 37,
   "metadata": {},
   "outputs": [
    {
     "data": {
      "text/plain": [
       "0        5.70\n",
       "1        6.20\n",
       "2        5.90\n",
       "3        6.40\n",
       "4        5.11\n",
       "         ... \n",
       "18202    5.90\n",
       "18203    6.30\n",
       "18204    5.80\n",
       "18205    5.10\n",
       "18206    5.10\n",
       "Name: Height, Length: 16654, dtype: float64"
      ]
     },
     "execution_count": 37,
     "metadata": {},
     "output_type": "execute_result"
    }
   ],
   "source": [
    "data['Height']"
   ]
  },
  {
   "cell_type": "markdown",
   "metadata": {},
   "source": [
    "6. 'Weight'"
   ]
  },
  {
   "cell_type": "code",
   "execution_count": 38,
   "metadata": {},
   "outputs": [
    {
     "data": {
      "text/plain": [
       "0        159lbs\n",
       "1        183lbs\n",
       "2        150lbs\n",
       "3        168lbs\n",
       "4        154lbs\n",
       "          ...  \n",
       "18202    134lbs\n",
       "18203    170lbs\n",
       "18204    148lbs\n",
       "18205    154lbs\n",
       "18206    176lbs\n",
       "Name: Weight, Length: 16654, dtype: object"
      ]
     },
     "execution_count": 38,
     "metadata": {},
     "output_type": "execute_result"
    }
   ],
   "source": [
    "data['Weight']"
   ]
  },
  {
   "cell_type": "code",
   "execution_count": 39,
   "metadata": {},
   "outputs": [],
   "source": [
    "data['Weight'] = list(map(lambda x : x.replace('lbs',''),data['Weight']))"
   ]
  },
  {
   "cell_type": "code",
   "execution_count": 40,
   "metadata": {},
   "outputs": [],
   "source": [
    "data['Weight'] = data['Weight'].astype(float)"
   ]
  },
  {
   "cell_type": "code",
   "execution_count": 41,
   "metadata": {},
   "outputs": [
    {
     "data": {
      "text/plain": [
       "0        159.0\n",
       "1        183.0\n",
       "2        150.0\n",
       "3        168.0\n",
       "4        154.0\n",
       "         ...  \n",
       "18202    134.0\n",
       "18203    170.0\n",
       "18204    148.0\n",
       "18205    154.0\n",
       "18206    176.0\n",
       "Name: Weight, Length: 16654, dtype: float64"
      ]
     },
     "execution_count": 41,
     "metadata": {},
     "output_type": "execute_result"
    }
   ],
   "source": [
    "data['Weight']"
   ]
  },
  {
   "cell_type": "markdown",
   "metadata": {},
   "source": [
    "7. 'Release Clause'"
   ]
  },
  {
   "cell_type": "code",
   "execution_count": 42,
   "metadata": {
    "scrolled": true
   },
   "outputs": [
    {
     "data": {
      "text/plain": [
       "0        €226.5M\n",
       "1        €127.1M\n",
       "2        €228.1M\n",
       "3        €138.6M\n",
       "4        €196.4M\n",
       "          ...   \n",
       "18202      €143K\n",
       "18203      €113K\n",
       "18204      €165K\n",
       "18205      €143K\n",
       "18206      €165K\n",
       "Name: Release Clause, Length: 16654, dtype: object"
      ]
     },
     "execution_count": 42,
     "metadata": {},
     "output_type": "execute_result"
    }
   ],
   "source": [
    "data['Release Clause']"
   ]
  },
  {
   "cell_type": "code",
   "execution_count": 43,
   "metadata": {},
   "outputs": [],
   "source": [
    "data['Release Clause'] = data['Release Clause'].map(str)"
   ]
  },
  {
   "cell_type": "code",
   "execution_count": 44,
   "metadata": {
    "scrolled": false
   },
   "outputs": [],
   "source": [
    "data['Release Clause'] = list(map(lambda x : x.replace('€',''),data['Release Clause'] ))"
   ]
  },
  {
   "cell_type": "code",
   "execution_count": 45,
   "metadata": {},
   "outputs": [
    {
     "data": {
      "text/plain": [
       "0        226.5M\n",
       "1        127.1M\n",
       "2        228.1M\n",
       "3        138.6M\n",
       "4        196.4M\n",
       "          ...  \n",
       "18202      143K\n",
       "18203      113K\n",
       "18204      165K\n",
       "18205      143K\n",
       "18206      165K\n",
       "Name: Release Clause, Length: 16654, dtype: object"
      ]
     },
     "execution_count": 45,
     "metadata": {},
     "output_type": "execute_result"
    }
   ],
   "source": [
    "data['Release Clause']"
   ]
  },
  {
   "cell_type": "code",
   "execution_count": 46,
   "metadata": {},
   "outputs": [
    {
     "name": "stderr",
     "output_type": "stream",
     "text": [
      "<ipython-input-46-8e0c818960e8>:3: SettingWithCopyWarning: \n",
      "A value is trying to be set on a copy of a slice from a DataFrame\n",
      "\n",
      "See the caveats in the documentation: https://pandas.pydata.org/pandas-docs/stable/user_guide/indexing.html#returning-a-view-versus-a-copy\n",
      "  data['Release Clause'][i] = float(data['Release Clause'][i].replace('M',''))*1000000\n",
      "<ipython-input-46-8e0c818960e8>:5: SettingWithCopyWarning: \n",
      "A value is trying to be set on a copy of a slice from a DataFrame\n",
      "\n",
      "See the caveats in the documentation: https://pandas.pydata.org/pandas-docs/stable/user_guide/indexing.html#returning-a-view-versus-a-copy\n",
      "  data['Release Clause'][i] = float(data['Release Clause'][i].replace('K',''))*100000\n"
     ]
    }
   ],
   "source": [
    "for i in data.index:\n",
    "    if data['Release Clause'][i][-1]=='M':\n",
    "        data['Release Clause'][i] = float(data['Release Clause'][i].replace('M',''))*1000000\n",
    "    elif data['Release Clause'][i][-1]=='K':\n",
    "        data['Release Clause'][i] = float(data['Release Clause'][i].replace('K',''))*100000"
   ]
  },
  {
   "cell_type": "code",
   "execution_count": 47,
   "metadata": {},
   "outputs": [
    {
     "data": {
      "text/plain": [
       "0        2.265e+08\n",
       "1        1.271e+08\n",
       "2        2.281e+08\n",
       "3        1.386e+08\n",
       "4        1.964e+08\n",
       "           ...    \n",
       "18202     1.43e+07\n",
       "18203     1.13e+07\n",
       "18204     1.65e+07\n",
       "18205     1.43e+07\n",
       "18206     1.65e+07\n",
       "Name: Release Clause, Length: 16654, dtype: object"
      ]
     },
     "execution_count": 47,
     "metadata": {},
     "output_type": "execute_result"
    }
   ],
   "source": [
    "data['Release Clause']"
   ]
  },
  {
   "cell_type": "code",
   "execution_count": 48,
   "metadata": {},
   "outputs": [],
   "source": [
    "data['Release Clause'] = data['Release Clause'].astype(np.number)"
   ]
  },
  {
   "cell_type": "code",
   "execution_count": 49,
   "metadata": {},
   "outputs": [
    {
     "data": {
      "text/plain": [
       "0        226500000.0\n",
       "1        127100000.0\n",
       "2        228100000.0\n",
       "3        138600000.0\n",
       "4        196400000.0\n",
       "            ...     \n",
       "18202     14300000.0\n",
       "18203     11300000.0\n",
       "18204     16500000.0\n",
       "18205     14300000.0\n",
       "18206     16500000.0\n",
       "Name: Release Clause, Length: 16654, dtype: float64"
      ]
     },
     "execution_count": 49,
     "metadata": {},
     "output_type": "execute_result"
    }
   ],
   "source": [
    "data['Release Clause']"
   ]
  },
  {
   "cell_type": "code",
   "execution_count": null,
   "metadata": {},
   "outputs": [],
   "source": []
  },
  {
   "cell_type": "markdown",
   "metadata": {},
   "source": [
    "4.\tCheck for missing values and do a mean imputation where necessary."
   ]
  },
  {
   "cell_type": "code",
   "execution_count": 50,
   "metadata": {},
   "outputs": [
    {
     "data": {
      "text/plain": [
       "Name                        0.00000\n",
       "Age                         0.00000\n",
       "Nationality                 0.00000\n",
       "Overall                     0.00000\n",
       "Potential                   0.00000\n",
       "Club                        0.00000\n",
       "Value                       0.00000\n",
       "Wage                        0.00000\n",
       "Preferred Foot              0.00000\n",
       "International Reputation    0.00000\n",
       "Weak Foot                   0.00000\n",
       "Skill Moves                 0.00000\n",
       "Body Type                   0.00000\n",
       "Position                    0.00000\n",
       "Jersey Number               0.00000\n",
       "Joined                      0.00000\n",
       "Contract Valid Until        0.00000\n",
       "Height                      0.00000\n",
       "Weight                      0.00000\n",
       "Crossing                    0.00000\n",
       "Finishing                   0.00000\n",
       "HeadingAccuracy             0.00000\n",
       "ShortPassing                0.00000\n",
       "Volleys                     0.00000\n",
       "Dribbling                   0.00000\n",
       "Curve                       0.00000\n",
       "FKAccuracy                  0.00000\n",
       "LongPassing                 0.00000\n",
       "BallControl                 0.00000\n",
       "Acceleration                0.00000\n",
       "SprintSpeed                 0.00000\n",
       "Agility                     0.00000\n",
       "Reactions                   0.00000\n",
       "Balance                     0.00000\n",
       "ShotPower                   0.00000\n",
       "Jumping                     0.00000\n",
       "Stamina                     0.00000\n",
       "Strength                    0.00000\n",
       "LongShots                   0.00000\n",
       "Aggression                  0.00000\n",
       "Interceptions               0.00000\n",
       "Positioning                 0.00000\n",
       "Vision                      0.00000\n",
       "Penalties                   0.00000\n",
       "Composure                   0.00000\n",
       "Marking                     0.00000\n",
       "StandingTackle              0.00000\n",
       "SlidingTackle               0.00000\n",
       "GKDiving                    0.00000\n",
       "GKHandling                  0.00000\n",
       "GKKicking                   0.00000\n",
       "GKPositioning               0.00000\n",
       "GKReflexes                  0.00000\n",
       "Release Clause              0.06605\n",
       "dtype: float64"
      ]
     },
     "execution_count": 50,
     "metadata": {},
     "output_type": "execute_result"
    }
   ],
   "source": [
    "data.isnull().sum() / len(data) * 100"
   ]
  },
  {
   "cell_type": "code",
   "execution_count": 51,
   "metadata": {},
   "outputs": [],
   "source": [
    "data = data.dropna()"
   ]
  },
  {
   "cell_type": "code",
   "execution_count": 52,
   "metadata": {},
   "outputs": [
    {
     "data": {
      "text/plain": [
       "Name                        0\n",
       "Age                         0\n",
       "Nationality                 0\n",
       "Overall                     0\n",
       "Potential                   0\n",
       "Club                        0\n",
       "Value                       0\n",
       "Wage                        0\n",
       "Preferred Foot              0\n",
       "International Reputation    0\n",
       "Weak Foot                   0\n",
       "Skill Moves                 0\n",
       "Body Type                   0\n",
       "Position                    0\n",
       "Jersey Number               0\n",
       "Joined                      0\n",
       "Contract Valid Until        0\n",
       "Height                      0\n",
       "Weight                      0\n",
       "Crossing                    0\n",
       "Finishing                   0\n",
       "HeadingAccuracy             0\n",
       "ShortPassing                0\n",
       "Volleys                     0\n",
       "Dribbling                   0\n",
       "Curve                       0\n",
       "FKAccuracy                  0\n",
       "LongPassing                 0\n",
       "BallControl                 0\n",
       "Acceleration                0\n",
       "SprintSpeed                 0\n",
       "Agility                     0\n",
       "Reactions                   0\n",
       "Balance                     0\n",
       "ShotPower                   0\n",
       "Jumping                     0\n",
       "Stamina                     0\n",
       "Strength                    0\n",
       "LongShots                   0\n",
       "Aggression                  0\n",
       "Interceptions               0\n",
       "Positioning                 0\n",
       "Vision                      0\n",
       "Penalties                   0\n",
       "Composure                   0\n",
       "Marking                     0\n",
       "StandingTackle              0\n",
       "SlidingTackle               0\n",
       "GKDiving                    0\n",
       "GKHandling                  0\n",
       "GKKicking                   0\n",
       "GKPositioning               0\n",
       "GKReflexes                  0\n",
       "Release Clause              0\n",
       "dtype: int64"
      ]
     },
     "execution_count": 52,
     "metadata": {},
     "output_type": "execute_result"
    }
   ],
   "source": [
    "data.isnull().sum()"
   ]
  },
  {
   "cell_type": "code",
   "execution_count": null,
   "metadata": {},
   "outputs": [],
   "source": []
  },
  {
   "cell_type": "markdown",
   "metadata": {},
   "source": [
    "# Exploratory Analysis:"
   ]
  },
  {
   "cell_type": "markdown",
   "metadata": {},
   "source": [
    "1.\tPlot the distribution of Overall rating for all players. "
   ]
  },
  {
   "cell_type": "code",
   "execution_count": 53,
   "metadata": {},
   "outputs": [
    {
     "data": {
      "text/plain": [
       "0        94\n",
       "1        94\n",
       "2        92\n",
       "3        91\n",
       "4        91\n",
       "         ..\n",
       "18202    47\n",
       "18203    47\n",
       "18204    47\n",
       "18205    47\n",
       "18206    46\n",
       "Name: Overall, Length: 16643, dtype: int64"
      ]
     },
     "execution_count": 53,
     "metadata": {},
     "output_type": "execute_result"
    }
   ],
   "source": [
    "data['Overall']"
   ]
  },
  {
   "cell_type": "code",
   "execution_count": 54,
   "metadata": {},
   "outputs": [
    {
     "data": {
      "text/plain": [
       "<AxesSubplot:ylabel='Density'>"
      ]
     },
     "execution_count": 54,
     "metadata": {},
     "output_type": "execute_result"
    },
    {
     "data": {
      "image/png": "[encoded data removed]",
      "text/plain": [
       "<Figure size 432x288 with 1 Axes>"
      ]
     },
     "metadata": {
      "needs_background": "light"
     },
     "output_type": "display_data"
    }
   ],
   "source": [
    "data['Overall'].plot(kind = 'kde')"
   ]
  },
  {
   "cell_type": "code",
   "execution_count": 55,
   "metadata": {},
   "outputs": [
    {
     "data": {
      "text/plain": [
       "<AxesSubplot:xlabel='Overall', ylabel='Count'>"
      ]
     },
     "execution_count": 55,
     "metadata": {},
     "output_type": "execute_result"
    },
    {
     "data": {
      "image/png": "[encoded data removed]",
      "text/plain": [
       "<Figure size 432x288 with 1 Axes>"
      ]
     },
     "metadata": {
      "needs_background": "light"
     },
     "output_type": "display_data"
    }
   ],
   "source": [
    "sb.histplot(data['Overall'],kde = True)\n"
   ]
  },
  {
   "cell_type": "markdown",
   "metadata": {},
   "source": [
    "2.\tGenerate pair plots for the following variables:\n",
    "Overall, Value, Wage, International Reputation, Height, Weight, Release Clause\n"
   ]
  },
  {
   "cell_type": "code",
   "execution_count": 56,
   "metadata": {},
   "outputs": [
    {
     "data": {
      "text/html": [
       "<div>\n",
       "<style scoped>\n",
       "    .dataframe tbody tr th:only-of-type {\n",
       "        vertical-align: middle;\n",
       "    }\n",
       "\n",
       "    .dataframe tbody tr th {\n",
       "        vertical-align: top;\n",
       "    }\n",
       "\n",
       "    .dataframe thead th {\n",
       "        text-align: right;\n",
       "    }\n",
       "</style>\n",
       "<table border=\"1\" class=\"dataframe\">\n",
       "  <thead>\n",
       "    <tr style=\"text-align: right;\">\n",
       "      <th></th>\n",
       "      <th>Overall</th>\n",
       "      <th>Value</th>\n",
       "      <th>Wage</th>\n",
       "      <th>International Reputation</th>\n",
       "      <th>Height</th>\n",
       "      <th>Weight</th>\n",
       "      <th>Release Clause</th>\n",
       "    </tr>\n",
       "  </thead>\n",
       "  <tbody>\n",
       "    <tr>\n",
       "      <th>0</th>\n",
       "      <td>94</td>\n",
       "      <td>110500000.0</td>\n",
       "      <td>565000.0</td>\n",
       "      <td>5.0</td>\n",
       "      <td>5.70</td>\n",
       "      <td>159.0</td>\n",
       "      <td>226500000.0</td>\n",
       "    </tr>\n",
       "    <tr>\n",
       "      <th>1</th>\n",
       "      <td>94</td>\n",
       "      <td>77000000.0</td>\n",
       "      <td>405000.0</td>\n",
       "      <td>5.0</td>\n",
       "      <td>6.20</td>\n",
       "      <td>183.0</td>\n",
       "      <td>127100000.0</td>\n",
       "    </tr>\n",
       "    <tr>\n",
       "      <th>2</th>\n",
       "      <td>92</td>\n",
       "      <td>118500000.0</td>\n",
       "      <td>290000.0</td>\n",
       "      <td>5.0</td>\n",
       "      <td>5.90</td>\n",
       "      <td>150.0</td>\n",
       "      <td>228100000.0</td>\n",
       "    </tr>\n",
       "    <tr>\n",
       "      <th>3</th>\n",
       "      <td>91</td>\n",
       "      <td>72000000.0</td>\n",
       "      <td>260000.0</td>\n",
       "      <td>4.0</td>\n",
       "      <td>6.40</td>\n",
       "      <td>168.0</td>\n",
       "      <td>138600000.0</td>\n",
       "    </tr>\n",
       "    <tr>\n",
       "      <th>4</th>\n",
       "      <td>91</td>\n",
       "      <td>102000000.0</td>\n",
       "      <td>355000.0</td>\n",
       "      <td>4.0</td>\n",
       "      <td>5.11</td>\n",
       "      <td>154.0</td>\n",
       "      <td>196400000.0</td>\n",
       "    </tr>\n",
       "    <tr>\n",
       "      <th>...</th>\n",
       "      <td>...</td>\n",
       "      <td>...</td>\n",
       "      <td>...</td>\n",
       "      <td>...</td>\n",
       "      <td>...</td>\n",
       "      <td>...</td>\n",
       "      <td>...</td>\n",
       "    </tr>\n",
       "    <tr>\n",
       "      <th>18202</th>\n",
       "      <td>47</td>\n",
       "      <td>60000.0</td>\n",
       "      <td>1000.0</td>\n",
       "      <td>1.0</td>\n",
       "      <td>5.90</td>\n",
       "      <td>134.0</td>\n",
       "      <td>14300000.0</td>\n",
       "    </tr>\n",
       "    <tr>\n",
       "      <th>18203</th>\n",
       "      <td>47</td>\n",
       "      <td>60000.0</td>\n",
       "      <td>1000.0</td>\n",
       "      <td>1.0</td>\n",
       "      <td>6.30</td>\n",
       "      <td>170.0</td>\n",
       "      <td>11300000.0</td>\n",
       "    </tr>\n",
       "    <tr>\n",
       "      <th>18204</th>\n",
       "      <td>47</td>\n",
       "      <td>60000.0</td>\n",
       "      <td>1000.0</td>\n",
       "      <td>1.0</td>\n",
       "      <td>5.80</td>\n",
       "      <td>148.0</td>\n",
       "      <td>16500000.0</td>\n",
       "    </tr>\n",
       "    <tr>\n",
       "      <th>18205</th>\n",
       "      <td>47</td>\n",
       "      <td>60000.0</td>\n",
       "      <td>1000.0</td>\n",
       "      <td>1.0</td>\n",
       "      <td>5.10</td>\n",
       "      <td>154.0</td>\n",
       "      <td>14300000.0</td>\n",
       "    </tr>\n",
       "    <tr>\n",
       "      <th>18206</th>\n",
       "      <td>46</td>\n",
       "      <td>60000.0</td>\n",
       "      <td>1000.0</td>\n",
       "      <td>1.0</td>\n",
       "      <td>5.10</td>\n",
       "      <td>176.0</td>\n",
       "      <td>16500000.0</td>\n",
       "    </tr>\n",
       "  </tbody>\n",
       "</table>\n",
       "<p>16643 rows × 7 columns</p>\n",
       "</div>"
      ],
      "text/plain": [
       "       Overall        Value      Wage  International Reputation  Height  \\\n",
       "0           94  110500000.0  565000.0                       5.0    5.70   \n",
       "1           94   77000000.0  405000.0                       5.0    6.20   \n",
       "2           92  118500000.0  290000.0                       5.0    5.90   \n",
       "3           91   72000000.0  260000.0                       4.0    6.40   \n",
       "4           91  102000000.0  355000.0                       4.0    5.11   \n",
       "...        ...          ...       ...                       ...     ...   \n",
       "18202       47      60000.0    1000.0                       1.0    5.90   \n",
       "18203       47      60000.0    1000.0                       1.0    6.30   \n",
       "18204       47      60000.0    1000.0                       1.0    5.80   \n",
       "18205       47      60000.0    1000.0                       1.0    5.10   \n",
       "18206       46      60000.0    1000.0                       1.0    5.10   \n",
       "\n",
       "       Weight  Release Clause  \n",
       "0       159.0     226500000.0  \n",
       "1       183.0     127100000.0  \n",
       "2       150.0     228100000.0  \n",
       "3       168.0     138600000.0  \n",
       "4       154.0     196400000.0  \n",
       "...       ...             ...  \n",
       "18202   134.0      14300000.0  \n",
       "18203   170.0      11300000.0  \n",
       "18204   148.0      16500000.0  \n",
       "18205   154.0      14300000.0  \n",
       "18206   176.0      16500000.0  \n",
       "\n",
       "[16643 rows x 7 columns]"
      ]
     },
     "execution_count": 56,
     "metadata": {},
     "output_type": "execute_result"
    }
   ],
   "source": [
    " data[['Overall', 'Value', 'Wage', 'International Reputation', 'Height', 'Weight', 'Release Clause']]"
   ]
  },
  {
   "cell_type": "code",
   "execution_count": 57,
   "metadata": {},
   "outputs": [],
   "source": [
    "pairplots = data[['Overall', 'Value', 'Wage', 'International Reputation', 'Height', 'Weight', 'Release Clause']]"
   ]
  },
  {
   "cell_type": "code",
   "execution_count": 58,
   "metadata": {},
   "outputs": [
    {
     "data": {
      "text/plain": [
       "<seaborn.axisgrid.PairGrid at 0x1f39984b610>"
      ]
     },
     "execution_count": 58,
     "metadata": {},
     "output_type": "execute_result"
    },
    {
     "data": {
      "image/png": "[encoded data removed]",
      "text/plain": [
       "<Figure size 1260x1260 with 56 Axes>"
      ]
     },
     "metadata": {
      "needs_background": "light"
     },
     "output_type": "display_data"
    }
   ],
   "source": [
    "sb.pairplot(pairplots)"
   ]
  },
  {
   "cell_type": "markdown",
   "metadata": {},
   "source": [
    "3.\tGenerate a table containing the top 20 players ranked by Overall score and whose contract expires in 2020.\n",
    "- a)\tWhat would the average wage for this set of players be?\n",
    "- b)\tWhat is the average age?\n",
    "- c)\tIs there a correlation between the Overall rating and Value for these players?\n"
   ]
  },
  {
   "cell_type": "code",
   "execution_count": 59,
   "metadata": {},
   "outputs": [],
   "source": [
    "top20 = data.copy()"
   ]
  },
  {
   "cell_type": "code",
   "execution_count": 60,
   "metadata": {},
   "outputs": [],
   "source": [
    "top20 = top20.sort_values(by = ['Overall'], ascending = False)"
   ]
  },
  {
   "cell_type": "code",
   "execution_count": 61,
   "metadata": {
    "scrolled": true
   },
   "outputs": [
    {
     "data": {
      "text/html": [
       "<div>\n",
       "<style scoped>\n",
       "    .dataframe tbody tr th:only-of-type {\n",
       "        vertical-align: middle;\n",
       "    }\n",
       "\n",
       "    .dataframe tbody tr th {\n",
       "        vertical-align: top;\n",
       "    }\n",
       "\n",
       "    .dataframe thead th {\n",
       "        text-align: right;\n",
       "    }\n",
       "</style>\n",
       "<table border=\"1\" class=\"dataframe\">\n",
       "  <thead>\n",
       "    <tr style=\"text-align: right;\">\n",
       "      <th></th>\n",
       "      <th>Name</th>\n",
       "      <th>Age</th>\n",
       "      <th>Nationality</th>\n",
       "      <th>Overall</th>\n",
       "      <th>Potential</th>\n",
       "      <th>Club</th>\n",
       "      <th>Value</th>\n",
       "      <th>Wage</th>\n",
       "      <th>Preferred Foot</th>\n",
       "      <th>International Reputation</th>\n",
       "      <th>...</th>\n",
       "      <th>Composure</th>\n",
       "      <th>Marking</th>\n",
       "      <th>StandingTackle</th>\n",
       "      <th>SlidingTackle</th>\n",
       "      <th>GKDiving</th>\n",
       "      <th>GKHandling</th>\n",
       "      <th>GKKicking</th>\n",
       "      <th>GKPositioning</th>\n",
       "      <th>GKReflexes</th>\n",
       "      <th>Release Clause</th>\n",
       "    </tr>\n",
       "  </thead>\n",
       "  <tbody>\n",
       "    <tr>\n",
       "      <th>0</th>\n",
       "      <td>L. Messi</td>\n",
       "      <td>31</td>\n",
       "      <td>Argentina</td>\n",
       "      <td>94</td>\n",
       "      <td>94</td>\n",
       "      <td>FC Barcelona</td>\n",
       "      <td>110500000.0</td>\n",
       "      <td>565000.0</td>\n",
       "      <td>Left</td>\n",
       "      <td>5.0</td>\n",
       "      <td>...</td>\n",
       "      <td>96.0</td>\n",
       "      <td>33.0</td>\n",
       "      <td>28.0</td>\n",
       "      <td>26.0</td>\n",
       "      <td>6.0</td>\n",
       "      <td>11.0</td>\n",
       "      <td>15.0</td>\n",
       "      <td>14.0</td>\n",
       "      <td>8.0</td>\n",
       "      <td>226500000.0</td>\n",
       "    </tr>\n",
       "    <tr>\n",
       "      <th>1</th>\n",
       "      <td>Cristiano Ronaldo</td>\n",
       "      <td>33</td>\n",
       "      <td>Portugal</td>\n",
       "      <td>94</td>\n",
       "      <td>94</td>\n",
       "      <td>Juventus</td>\n",
       "      <td>77000000.0</td>\n",
       "      <td>405000.0</td>\n",
       "      <td>Right</td>\n",
       "      <td>5.0</td>\n",
       "      <td>...</td>\n",
       "      <td>95.0</td>\n",
       "      <td>28.0</td>\n",
       "      <td>31.0</td>\n",
       "      <td>23.0</td>\n",
       "      <td>7.0</td>\n",
       "      <td>11.0</td>\n",
       "      <td>15.0</td>\n",
       "      <td>14.0</td>\n",
       "      <td>11.0</td>\n",
       "      <td>127100000.0</td>\n",
       "    </tr>\n",
       "    <tr>\n",
       "      <th>2</th>\n",
       "      <td>Neymar Jr</td>\n",
       "      <td>26</td>\n",
       "      <td>Brazil</td>\n",
       "      <td>92</td>\n",
       "      <td>93</td>\n",
       "      <td>Paris Saint-Germain</td>\n",
       "      <td>118500000.0</td>\n",
       "      <td>290000.0</td>\n",
       "      <td>Right</td>\n",
       "      <td>5.0</td>\n",
       "      <td>...</td>\n",
       "      <td>94.0</td>\n",
       "      <td>27.0</td>\n",
       "      <td>24.0</td>\n",
       "      <td>33.0</td>\n",
       "      <td>9.0</td>\n",
       "      <td>9.0</td>\n",
       "      <td>15.0</td>\n",
       "      <td>15.0</td>\n",
       "      <td>11.0</td>\n",
       "      <td>228100000.0</td>\n",
       "    </tr>\n",
       "    <tr>\n",
       "      <th>3</th>\n",
       "      <td>De Gea</td>\n",
       "      <td>27</td>\n",
       "      <td>Spain</td>\n",
       "      <td>91</td>\n",
       "      <td>93</td>\n",
       "      <td>Manchester United</td>\n",
       "      <td>72000000.0</td>\n",
       "      <td>260000.0</td>\n",
       "      <td>Right</td>\n",
       "      <td>4.0</td>\n",
       "      <td>...</td>\n",
       "      <td>68.0</td>\n",
       "      <td>15.0</td>\n",
       "      <td>21.0</td>\n",
       "      <td>13.0</td>\n",
       "      <td>90.0</td>\n",
       "      <td>85.0</td>\n",
       "      <td>87.0</td>\n",
       "      <td>88.0</td>\n",
       "      <td>94.0</td>\n",
       "      <td>138600000.0</td>\n",
       "    </tr>\n",
       "    <tr>\n",
       "      <th>4</th>\n",
       "      <td>K. De Bruyne</td>\n",
       "      <td>27</td>\n",
       "      <td>Belgium</td>\n",
       "      <td>91</td>\n",
       "      <td>92</td>\n",
       "      <td>Manchester City</td>\n",
       "      <td>102000000.0</td>\n",
       "      <td>355000.0</td>\n",
       "      <td>Right</td>\n",
       "      <td>4.0</td>\n",
       "      <td>...</td>\n",
       "      <td>88.0</td>\n",
       "      <td>68.0</td>\n",
       "      <td>58.0</td>\n",
       "      <td>51.0</td>\n",
       "      <td>15.0</td>\n",
       "      <td>13.0</td>\n",
       "      <td>5.0</td>\n",
       "      <td>10.0</td>\n",
       "      <td>13.0</td>\n",
       "      <td>196400000.0</td>\n",
       "    </tr>\n",
       "    <tr>\n",
       "      <th>...</th>\n",
       "      <td>...</td>\n",
       "      <td>...</td>\n",
       "      <td>...</td>\n",
       "      <td>...</td>\n",
       "      <td>...</td>\n",
       "      <td>...</td>\n",
       "      <td>...</td>\n",
       "      <td>...</td>\n",
       "      <td>...</td>\n",
       "      <td>...</td>\n",
       "      <td>...</td>\n",
       "      <td>...</td>\n",
       "      <td>...</td>\n",
       "      <td>...</td>\n",
       "      <td>...</td>\n",
       "      <td>...</td>\n",
       "      <td>...</td>\n",
       "      <td>...</td>\n",
       "      <td>...</td>\n",
       "      <td>...</td>\n",
       "      <td>...</td>\n",
       "    </tr>\n",
       "    <tr>\n",
       "      <th>18190</th>\n",
       "      <td>L. Watkins</td>\n",
       "      <td>18</td>\n",
       "      <td>England</td>\n",
       "      <td>47</td>\n",
       "      <td>67</td>\n",
       "      <td>Cambridge United</td>\n",
       "      <td>60000.0</td>\n",
       "      <td>1000.0</td>\n",
       "      <td>Right</td>\n",
       "      <td>1.0</td>\n",
       "      <td>...</td>\n",
       "      <td>46.0</td>\n",
       "      <td>35.0</td>\n",
       "      <td>44.0</td>\n",
       "      <td>47.0</td>\n",
       "      <td>13.0</td>\n",
       "      <td>7.0</td>\n",
       "      <td>14.0</td>\n",
       "      <td>10.0</td>\n",
       "      <td>8.0</td>\n",
       "      <td>16500000.0</td>\n",
       "    </tr>\n",
       "    <tr>\n",
       "      <th>18188</th>\n",
       "      <td>L. Collins</td>\n",
       "      <td>17</td>\n",
       "      <td>Wales</td>\n",
       "      <td>47</td>\n",
       "      <td>62</td>\n",
       "      <td>Newport County</td>\n",
       "      <td>60000.0</td>\n",
       "      <td>1000.0</td>\n",
       "      <td>Right</td>\n",
       "      <td>1.0</td>\n",
       "      <td>...</td>\n",
       "      <td>46.0</td>\n",
       "      <td>33.0</td>\n",
       "      <td>38.0</td>\n",
       "      <td>41.0</td>\n",
       "      <td>5.0</td>\n",
       "      <td>12.0</td>\n",
       "      <td>8.0</td>\n",
       "      <td>13.0</td>\n",
       "      <td>10.0</td>\n",
       "      <td>14300000.0</td>\n",
       "    </tr>\n",
       "    <tr>\n",
       "      <th>18187</th>\n",
       "      <td>C. Ehlich</td>\n",
       "      <td>19</td>\n",
       "      <td>Germany</td>\n",
       "      <td>47</td>\n",
       "      <td>59</td>\n",
       "      <td>SpVgg Unterhaching</td>\n",
       "      <td>40000.0</td>\n",
       "      <td>1000.0</td>\n",
       "      <td>Right</td>\n",
       "      <td>1.0</td>\n",
       "      <td>...</td>\n",
       "      <td>47.0</td>\n",
       "      <td>40.0</td>\n",
       "      <td>42.0</td>\n",
       "      <td>42.0</td>\n",
       "      <td>13.0</td>\n",
       "      <td>12.0</td>\n",
       "      <td>11.0</td>\n",
       "      <td>15.0</td>\n",
       "      <td>12.0</td>\n",
       "      <td>6600000.0</td>\n",
       "    </tr>\n",
       "    <tr>\n",
       "      <th>18186</th>\n",
       "      <td>Zhang Yufeng</td>\n",
       "      <td>20</td>\n",
       "      <td>China PR</td>\n",
       "      <td>47</td>\n",
       "      <td>64</td>\n",
       "      <td>Beijing Renhe FC</td>\n",
       "      <td>60000.0</td>\n",
       "      <td>1000.0</td>\n",
       "      <td>Right</td>\n",
       "      <td>1.0</td>\n",
       "      <td>...</td>\n",
       "      <td>39.0</td>\n",
       "      <td>53.0</td>\n",
       "      <td>41.0</td>\n",
       "      <td>51.0</td>\n",
       "      <td>15.0</td>\n",
       "      <td>7.0</td>\n",
       "      <td>14.0</td>\n",
       "      <td>6.0</td>\n",
       "      <td>8.0</td>\n",
       "      <td>16700000.0</td>\n",
       "    </tr>\n",
       "    <tr>\n",
       "      <th>18206</th>\n",
       "      <td>G. Nugent</td>\n",
       "      <td>16</td>\n",
       "      <td>England</td>\n",
       "      <td>46</td>\n",
       "      <td>66</td>\n",
       "      <td>Tranmere Rovers</td>\n",
       "      <td>60000.0</td>\n",
       "      <td>1000.0</td>\n",
       "      <td>Right</td>\n",
       "      <td>1.0</td>\n",
       "      <td>...</td>\n",
       "      <td>43.0</td>\n",
       "      <td>40.0</td>\n",
       "      <td>43.0</td>\n",
       "      <td>50.0</td>\n",
       "      <td>10.0</td>\n",
       "      <td>15.0</td>\n",
       "      <td>9.0</td>\n",
       "      <td>12.0</td>\n",
       "      <td>9.0</td>\n",
       "      <td>16500000.0</td>\n",
       "    </tr>\n",
       "  </tbody>\n",
       "</table>\n",
       "<p>16643 rows × 54 columns</p>\n",
       "</div>"
      ],
      "text/plain": [
       "                    Name  Age Nationality  Overall  Potential  \\\n",
       "0               L. Messi   31   Argentina       94         94   \n",
       "1      Cristiano Ronaldo   33    Portugal       94         94   \n",
       "2              Neymar Jr   26      Brazil       92         93   \n",
       "3                 De Gea   27       Spain       91         93   \n",
       "4           K. De Bruyne   27     Belgium       91         92   \n",
       "...                  ...  ...         ...      ...        ...   \n",
       "18190         L. Watkins   18     England       47         67   \n",
       "18188         L. Collins   17       Wales       47         62   \n",
       "18187          C. Ehlich   19     Germany       47         59   \n",
       "18186       Zhang Yufeng   20    China PR       47         64   \n",
       "18206          G. Nugent   16     England       46         66   \n",
       "\n",
       "                      Club        Value      Wage Preferred Foot  \\\n",
       "0             FC Barcelona  110500000.0  565000.0           Left   \n",
       "1                 Juventus   77000000.0  405000.0          Right   \n",
       "2      Paris Saint-Germain  118500000.0  290000.0          Right   \n",
       "3        Manchester United   72000000.0  260000.0          Right   \n",
       "4          Manchester City  102000000.0  355000.0          Right   \n",
       "...                    ...          ...       ...            ...   \n",
       "18190     Cambridge United      60000.0    1000.0          Right   \n",
       "18188       Newport County      60000.0    1000.0          Right   \n",
       "18187   SpVgg Unterhaching      40000.0    1000.0          Right   \n",
       "18186     Beijing Renhe FC      60000.0    1000.0          Right   \n",
       "18206      Tranmere Rovers      60000.0    1000.0          Right   \n",
       "\n",
       "       International Reputation  ...  Composure  Marking StandingTackle  \\\n",
       "0                           5.0  ...       96.0     33.0           28.0   \n",
       "1                           5.0  ...       95.0     28.0           31.0   \n",
       "2                           5.0  ...       94.0     27.0           24.0   \n",
       "3                           4.0  ...       68.0     15.0           21.0   \n",
       "4                           4.0  ...       88.0     68.0           58.0   \n",
       "...                         ...  ...        ...      ...            ...   \n",
       "18190                       1.0  ...       46.0     35.0           44.0   \n",
       "18188                       1.0  ...       46.0     33.0           38.0   \n",
       "18187                       1.0  ...       47.0     40.0           42.0   \n",
       "18186                       1.0  ...       39.0     53.0           41.0   \n",
       "18206                       1.0  ...       43.0     40.0           43.0   \n",
       "\n",
       "      SlidingTackle  GKDiving  GKHandling GKKicking  GKPositioning  \\\n",
       "0              26.0       6.0        11.0      15.0           14.0   \n",
       "1              23.0       7.0        11.0      15.0           14.0   \n",
       "2              33.0       9.0         9.0      15.0           15.0   \n",
       "3              13.0      90.0        85.0      87.0           88.0   \n",
       "4              51.0      15.0        13.0       5.0           10.0   \n",
       "...             ...       ...         ...       ...            ...   \n",
       "18190          47.0      13.0         7.0      14.0           10.0   \n",
       "18188          41.0       5.0        12.0       8.0           13.0   \n",
       "18187          42.0      13.0        12.0      11.0           15.0   \n",
       "18186          51.0      15.0         7.0      14.0            6.0   \n",
       "18206          50.0      10.0        15.0       9.0           12.0   \n",
       "\n",
       "       GKReflexes  Release Clause  \n",
       "0             8.0     226500000.0  \n",
       "1            11.0     127100000.0  \n",
       "2            11.0     228100000.0  \n",
       "3            94.0     138600000.0  \n",
       "4            13.0     196400000.0  \n",
       "...           ...             ...  \n",
       "18190         8.0      16500000.0  \n",
       "18188        10.0      14300000.0  \n",
       "18187        12.0       6600000.0  \n",
       "18186         8.0      16700000.0  \n",
       "18206         9.0      16500000.0  \n",
       "\n",
       "[16643 rows x 54 columns]"
      ]
     },
     "execution_count": 61,
     "metadata": {},
     "output_type": "execute_result"
    }
   ],
   "source": [
    "top20"
   ]
  },
  {
   "cell_type": "code",
   "execution_count": 62,
   "metadata": {},
   "outputs": [],
   "source": [
    "top20 = top20[top20['Contract Valid Until']=='2020-01-01']"
   ]
  },
  {
   "cell_type": "code",
   "execution_count": 63,
   "metadata": {},
   "outputs": [
    {
     "data": {
      "text/html": [
       "<div>\n",
       "<style scoped>\n",
       "    .dataframe tbody tr th:only-of-type {\n",
       "        vertical-align: middle;\n",
       "    }\n",
       "\n",
       "    .dataframe tbody tr th {\n",
       "        vertical-align: top;\n",
       "    }\n",
       "\n",
       "    .dataframe thead th {\n",
       "        text-align: right;\n",
       "    }\n",
       "</style>\n",
       "<table border=\"1\" class=\"dataframe\">\n",
       "  <thead>\n",
       "    <tr style=\"text-align: right;\">\n",
       "      <th></th>\n",
       "      <th>Name</th>\n",
       "      <th>Age</th>\n",
       "      <th>Nationality</th>\n",
       "      <th>Overall</th>\n",
       "      <th>Potential</th>\n",
       "      <th>Club</th>\n",
       "      <th>Value</th>\n",
       "      <th>Wage</th>\n",
       "      <th>Preferred Foot</th>\n",
       "      <th>International Reputation</th>\n",
       "      <th>...</th>\n",
       "      <th>Composure</th>\n",
       "      <th>Marking</th>\n",
       "      <th>StandingTackle</th>\n",
       "      <th>SlidingTackle</th>\n",
       "      <th>GKDiving</th>\n",
       "      <th>GKHandling</th>\n",
       "      <th>GKKicking</th>\n",
       "      <th>GKPositioning</th>\n",
       "      <th>GKReflexes</th>\n",
       "      <th>Release Clause</th>\n",
       "    </tr>\n",
       "  </thead>\n",
       "  <tbody>\n",
       "    <tr>\n",
       "      <th>3</th>\n",
       "      <td>De Gea</td>\n",
       "      <td>27</td>\n",
       "      <td>Spain</td>\n",
       "      <td>91</td>\n",
       "      <td>93</td>\n",
       "      <td>Manchester United</td>\n",
       "      <td>72000000.0</td>\n",
       "      <td>260000.0</td>\n",
       "      <td>Right</td>\n",
       "      <td>4.0</td>\n",
       "      <td>...</td>\n",
       "      <td>68.0</td>\n",
       "      <td>15.0</td>\n",
       "      <td>21.0</td>\n",
       "      <td>13.0</td>\n",
       "      <td>90.0</td>\n",
       "      <td>85.0</td>\n",
       "      <td>87.0</td>\n",
       "      <td>88.0</td>\n",
       "      <td>94.0</td>\n",
       "      <td>138600000.0</td>\n",
       "    </tr>\n",
       "    <tr>\n",
       "      <th>5</th>\n",
       "      <td>E. Hazard</td>\n",
       "      <td>27</td>\n",
       "      <td>Belgium</td>\n",
       "      <td>91</td>\n",
       "      <td>91</td>\n",
       "      <td>Chelsea</td>\n",
       "      <td>93000000.0</td>\n",
       "      <td>340000.0</td>\n",
       "      <td>Right</td>\n",
       "      <td>4.0</td>\n",
       "      <td>...</td>\n",
       "      <td>91.0</td>\n",
       "      <td>34.0</td>\n",
       "      <td>27.0</td>\n",
       "      <td>22.0</td>\n",
       "      <td>11.0</td>\n",
       "      <td>12.0</td>\n",
       "      <td>6.0</td>\n",
       "      <td>8.0</td>\n",
       "      <td>8.0</td>\n",
       "      <td>172100000.0</td>\n",
       "    </tr>\n",
       "    <tr>\n",
       "      <th>6</th>\n",
       "      <td>L. Modrić</td>\n",
       "      <td>32</td>\n",
       "      <td>Croatia</td>\n",
       "      <td>91</td>\n",
       "      <td>91</td>\n",
       "      <td>Real Madrid</td>\n",
       "      <td>67000000.0</td>\n",
       "      <td>420000.0</td>\n",
       "      <td>Right</td>\n",
       "      <td>4.0</td>\n",
       "      <td>...</td>\n",
       "      <td>84.0</td>\n",
       "      <td>60.0</td>\n",
       "      <td>76.0</td>\n",
       "      <td>73.0</td>\n",
       "      <td>13.0</td>\n",
       "      <td>9.0</td>\n",
       "      <td>7.0</td>\n",
       "      <td>14.0</td>\n",
       "      <td>9.0</td>\n",
       "      <td>137400000.0</td>\n",
       "    </tr>\n",
       "    <tr>\n",
       "      <th>8</th>\n",
       "      <td>Sergio Ramos</td>\n",
       "      <td>32</td>\n",
       "      <td>Spain</td>\n",
       "      <td>91</td>\n",
       "      <td>91</td>\n",
       "      <td>Real Madrid</td>\n",
       "      <td>51000000.0</td>\n",
       "      <td>380000.0</td>\n",
       "      <td>Right</td>\n",
       "      <td>4.0</td>\n",
       "      <td>...</td>\n",
       "      <td>82.0</td>\n",
       "      <td>87.0</td>\n",
       "      <td>92.0</td>\n",
       "      <td>91.0</td>\n",
       "      <td>11.0</td>\n",
       "      <td>8.0</td>\n",
       "      <td>9.0</td>\n",
       "      <td>7.0</td>\n",
       "      <td>11.0</td>\n",
       "      <td>104600000.0</td>\n",
       "    </tr>\n",
       "    <tr>\n",
       "      <th>13</th>\n",
       "      <td>David Silva</td>\n",
       "      <td>32</td>\n",
       "      <td>Spain</td>\n",
       "      <td>90</td>\n",
       "      <td>90</td>\n",
       "      <td>Manchester City</td>\n",
       "      <td>60000000.0</td>\n",
       "      <td>285000.0</td>\n",
       "      <td>Left</td>\n",
       "      <td>4.0</td>\n",
       "      <td>...</td>\n",
       "      <td>93.0</td>\n",
       "      <td>59.0</td>\n",
       "      <td>53.0</td>\n",
       "      <td>29.0</td>\n",
       "      <td>6.0</td>\n",
       "      <td>15.0</td>\n",
       "      <td>7.0</td>\n",
       "      <td>6.0</td>\n",
       "      <td>12.0</td>\n",
       "      <td>111000000.0</td>\n",
       "    </tr>\n",
       "    <tr>\n",
       "      <th>24</th>\n",
       "      <td>G. Chiellini</td>\n",
       "      <td>33</td>\n",
       "      <td>Italy</td>\n",
       "      <td>89</td>\n",
       "      <td>89</td>\n",
       "      <td>Juventus</td>\n",
       "      <td>27000000.0</td>\n",
       "      <td>215000.0</td>\n",
       "      <td>Left</td>\n",
       "      <td>4.0</td>\n",
       "      <td>...</td>\n",
       "      <td>84.0</td>\n",
       "      <td>93.0</td>\n",
       "      <td>93.0</td>\n",
       "      <td>90.0</td>\n",
       "      <td>3.0</td>\n",
       "      <td>3.0</td>\n",
       "      <td>2.0</td>\n",
       "      <td>4.0</td>\n",
       "      <td>3.0</td>\n",
       "      <td>44600000.0</td>\n",
       "    </tr>\n",
       "    <tr>\n",
       "      <th>21</th>\n",
       "      <td>E. Cavani</td>\n",
       "      <td>31</td>\n",
       "      <td>Uruguay</td>\n",
       "      <td>89</td>\n",
       "      <td>89</td>\n",
       "      <td>Paris Saint-Germain</td>\n",
       "      <td>60000000.0</td>\n",
       "      <td>200000.0</td>\n",
       "      <td>Right</td>\n",
       "      <td>4.0</td>\n",
       "      <td>...</td>\n",
       "      <td>82.0</td>\n",
       "      <td>52.0</td>\n",
       "      <td>45.0</td>\n",
       "      <td>39.0</td>\n",
       "      <td>12.0</td>\n",
       "      <td>5.0</td>\n",
       "      <td>13.0</td>\n",
       "      <td>13.0</td>\n",
       "      <td>10.0</td>\n",
       "      <td>111000000.0</td>\n",
       "    </tr>\n",
       "    <tr>\n",
       "      <th>39</th>\n",
       "      <td>Thiago Silva</td>\n",
       "      <td>33</td>\n",
       "      <td>Brazil</td>\n",
       "      <td>88</td>\n",
       "      <td>88</td>\n",
       "      <td>Paris Saint-Germain</td>\n",
       "      <td>24000000.0</td>\n",
       "      <td>165000.0</td>\n",
       "      <td>Right</td>\n",
       "      <td>4.0</td>\n",
       "      <td>...</td>\n",
       "      <td>81.0</td>\n",
       "      <td>88.0</td>\n",
       "      <td>89.0</td>\n",
       "      <td>85.0</td>\n",
       "      <td>9.0</td>\n",
       "      <td>12.0</td>\n",
       "      <td>5.0</td>\n",
       "      <td>9.0</td>\n",
       "      <td>10.0</td>\n",
       "      <td>44400000.0</td>\n",
       "    </tr>\n",
       "    <tr>\n",
       "      <th>31</th>\n",
       "      <td>C. Eriksen</td>\n",
       "      <td>26</td>\n",
       "      <td>Denmark</td>\n",
       "      <td>88</td>\n",
       "      <td>91</td>\n",
       "      <td>Tottenham Hotspur</td>\n",
       "      <td>73500000.0</td>\n",
       "      <td>205000.0</td>\n",
       "      <td>Right</td>\n",
       "      <td>3.0</td>\n",
       "      <td>...</td>\n",
       "      <td>88.0</td>\n",
       "      <td>59.0</td>\n",
       "      <td>57.0</td>\n",
       "      <td>22.0</td>\n",
       "      <td>9.0</td>\n",
       "      <td>14.0</td>\n",
       "      <td>7.0</td>\n",
       "      <td>7.0</td>\n",
       "      <td>6.0</td>\n",
       "      <td>141500000.0</td>\n",
       "    </tr>\n",
       "    <tr>\n",
       "      <th>52</th>\n",
       "      <td>M. Hamšík</td>\n",
       "      <td>30</td>\n",
       "      <td>Slovakia</td>\n",
       "      <td>87</td>\n",
       "      <td>87</td>\n",
       "      <td>Napoli</td>\n",
       "      <td>46500000.0</td>\n",
       "      <td>125000.0</td>\n",
       "      <td>Right</td>\n",
       "      <td>3.0</td>\n",
       "      <td>...</td>\n",
       "      <td>84.0</td>\n",
       "      <td>75.0</td>\n",
       "      <td>73.0</td>\n",
       "      <td>62.0</td>\n",
       "      <td>8.0</td>\n",
       "      <td>6.0</td>\n",
       "      <td>4.0</td>\n",
       "      <td>14.0</td>\n",
       "      <td>14.0</td>\n",
       "      <td>79100000.0</td>\n",
       "    </tr>\n",
       "    <tr>\n",
       "      <th>49</th>\n",
       "      <td>Jordi Alba</td>\n",
       "      <td>29</td>\n",
       "      <td>Spain</td>\n",
       "      <td>87</td>\n",
       "      <td>87</td>\n",
       "      <td>FC Barcelona</td>\n",
       "      <td>38000000.0</td>\n",
       "      <td>250000.0</td>\n",
       "      <td>Left</td>\n",
       "      <td>3.0</td>\n",
       "      <td>...</td>\n",
       "      <td>79.0</td>\n",
       "      <td>72.0</td>\n",
       "      <td>84.0</td>\n",
       "      <td>85.0</td>\n",
       "      <td>13.0</td>\n",
       "      <td>15.0</td>\n",
       "      <td>13.0</td>\n",
       "      <td>6.0</td>\n",
       "      <td>13.0</td>\n",
       "      <td>77900000.0</td>\n",
       "    </tr>\n",
       "    <tr>\n",
       "      <th>50</th>\n",
       "      <td>D. Mertens</td>\n",
       "      <td>31</td>\n",
       "      <td>Belgium</td>\n",
       "      <td>87</td>\n",
       "      <td>87</td>\n",
       "      <td>Napoli</td>\n",
       "      <td>45000000.0</td>\n",
       "      <td>135000.0</td>\n",
       "      <td>Right</td>\n",
       "      <td>3.0</td>\n",
       "      <td>...</td>\n",
       "      <td>81.0</td>\n",
       "      <td>25.0</td>\n",
       "      <td>40.0</td>\n",
       "      <td>40.0</td>\n",
       "      <td>7.0</td>\n",
       "      <td>10.0</td>\n",
       "      <td>8.0</td>\n",
       "      <td>10.0</td>\n",
       "      <td>4.0</td>\n",
       "      <td>76500000.0</td>\n",
       "    </tr>\n",
       "    <tr>\n",
       "      <th>46</th>\n",
       "      <td>K. Navas</td>\n",
       "      <td>31</td>\n",
       "      <td>Costa Rica</td>\n",
       "      <td>87</td>\n",
       "      <td>87</td>\n",
       "      <td>Real Madrid</td>\n",
       "      <td>30500000.0</td>\n",
       "      <td>195000.0</td>\n",
       "      <td>Right</td>\n",
       "      <td>3.0</td>\n",
       "      <td>...</td>\n",
       "      <td>67.0</td>\n",
       "      <td>28.0</td>\n",
       "      <td>14.0</td>\n",
       "      <td>14.0</td>\n",
       "      <td>90.0</td>\n",
       "      <td>81.0</td>\n",
       "      <td>75.0</td>\n",
       "      <td>82.0</td>\n",
       "      <td>90.0</td>\n",
       "      <td>62500000.0</td>\n",
       "    </tr>\n",
       "    <tr>\n",
       "      <th>75</th>\n",
       "      <td>Fernandinho</td>\n",
       "      <td>33</td>\n",
       "      <td>Brazil</td>\n",
       "      <td>86</td>\n",
       "      <td>86</td>\n",
       "      <td>Manchester City</td>\n",
       "      <td>18000000.0</td>\n",
       "      <td>185000.0</td>\n",
       "      <td>Right</td>\n",
       "      <td>3.0</td>\n",
       "      <td>...</td>\n",
       "      <td>79.0</td>\n",
       "      <td>85.0</td>\n",
       "      <td>85.0</td>\n",
       "      <td>80.0</td>\n",
       "      <td>12.0</td>\n",
       "      <td>11.0</td>\n",
       "      <td>5.0</td>\n",
       "      <td>13.0</td>\n",
       "      <td>7.0</td>\n",
       "      <td>33300000.0</td>\n",
       "    </tr>\n",
       "    <tr>\n",
       "      <th>73</th>\n",
       "      <td>M. Benatia</td>\n",
       "      <td>31</td>\n",
       "      <td>Morocco</td>\n",
       "      <td>86</td>\n",
       "      <td>86</td>\n",
       "      <td>Juventus</td>\n",
       "      <td>30000000.0</td>\n",
       "      <td>160000.0</td>\n",
       "      <td>Right</td>\n",
       "      <td>3.0</td>\n",
       "      <td>...</td>\n",
       "      <td>82.0</td>\n",
       "      <td>89.0</td>\n",
       "      <td>87.0</td>\n",
       "      <td>85.0</td>\n",
       "      <td>7.0</td>\n",
       "      <td>4.0</td>\n",
       "      <td>8.0</td>\n",
       "      <td>7.0</td>\n",
       "      <td>11.0</td>\n",
       "      <td>49500000.0</td>\n",
       "    </tr>\n",
       "    <tr>\n",
       "      <th>71</th>\n",
       "      <td>T. Alderweireld</td>\n",
       "      <td>29</td>\n",
       "      <td>Belgium</td>\n",
       "      <td>86</td>\n",
       "      <td>87</td>\n",
       "      <td>Tottenham Hotspur</td>\n",
       "      <td>39000000.0</td>\n",
       "      <td>150000.0</td>\n",
       "      <td>Right</td>\n",
       "      <td>3.0</td>\n",
       "      <td>...</td>\n",
       "      <td>81.0</td>\n",
       "      <td>90.0</td>\n",
       "      <td>91.0</td>\n",
       "      <td>86.0</td>\n",
       "      <td>16.0</td>\n",
       "      <td>6.0</td>\n",
       "      <td>14.0</td>\n",
       "      <td>16.0</td>\n",
       "      <td>14.0</td>\n",
       "      <td>75100000.0</td>\n",
       "    </tr>\n",
       "    <tr>\n",
       "      <th>64</th>\n",
       "      <td>Alex Sandro</td>\n",
       "      <td>27</td>\n",
       "      <td>Brazil</td>\n",
       "      <td>86</td>\n",
       "      <td>86</td>\n",
       "      <td>Juventus</td>\n",
       "      <td>36500000.0</td>\n",
       "      <td>160000.0</td>\n",
       "      <td>Left</td>\n",
       "      <td>3.0</td>\n",
       "      <td>...</td>\n",
       "      <td>82.0</td>\n",
       "      <td>81.0</td>\n",
       "      <td>84.0</td>\n",
       "      <td>84.0</td>\n",
       "      <td>7.0</td>\n",
       "      <td>7.0</td>\n",
       "      <td>9.0</td>\n",
       "      <td>12.0</td>\n",
       "      <td>5.0</td>\n",
       "      <td>60200000.0</td>\n",
       "    </tr>\n",
       "    <tr>\n",
       "      <th>98</th>\n",
       "      <td>E. Džeko</td>\n",
       "      <td>32</td>\n",
       "      <td>Bosnia Herzegovina</td>\n",
       "      <td>85</td>\n",
       "      <td>85</td>\n",
       "      <td>Roma</td>\n",
       "      <td>30500000.0</td>\n",
       "      <td>115000.0</td>\n",
       "      <td>Right</td>\n",
       "      <td>3.0</td>\n",
       "      <td>...</td>\n",
       "      <td>83.0</td>\n",
       "      <td>58.0</td>\n",
       "      <td>28.0</td>\n",
       "      <td>16.0</td>\n",
       "      <td>9.0</td>\n",
       "      <td>11.0</td>\n",
       "      <td>13.0</td>\n",
       "      <td>15.0</td>\n",
       "      <td>15.0</td>\n",
       "      <td>51900000.0</td>\n",
       "    </tr>\n",
       "    <tr>\n",
       "      <th>102</th>\n",
       "      <td>Naldo</td>\n",
       "      <td>35</td>\n",
       "      <td>Brazil</td>\n",
       "      <td>85</td>\n",
       "      <td>85</td>\n",
       "      <td>FC Schalke 04</td>\n",
       "      <td>9000000.0</td>\n",
       "      <td>38000.0</td>\n",
       "      <td>Right</td>\n",
       "      <td>3.0</td>\n",
       "      <td>...</td>\n",
       "      <td>84.0</td>\n",
       "      <td>86.0</td>\n",
       "      <td>88.0</td>\n",
       "      <td>85.0</td>\n",
       "      <td>14.0</td>\n",
       "      <td>10.0</td>\n",
       "      <td>14.0</td>\n",
       "      <td>8.0</td>\n",
       "      <td>14.0</td>\n",
       "      <td>15300000.0</td>\n",
       "    </tr>\n",
       "    <tr>\n",
       "      <th>103</th>\n",
       "      <td>B. Matuidi</td>\n",
       "      <td>31</td>\n",
       "      <td>France</td>\n",
       "      <td>85</td>\n",
       "      <td>85</td>\n",
       "      <td>Juventus</td>\n",
       "      <td>26000000.0</td>\n",
       "      <td>145000.0</td>\n",
       "      <td>Left</td>\n",
       "      <td>3.0</td>\n",
       "      <td>...</td>\n",
       "      <td>82.0</td>\n",
       "      <td>85.0</td>\n",
       "      <td>84.0</td>\n",
       "      <td>86.0</td>\n",
       "      <td>8.0</td>\n",
       "      <td>11.0</td>\n",
       "      <td>5.0</td>\n",
       "      <td>10.0</td>\n",
       "      <td>14.0</td>\n",
       "      <td>42900000.0</td>\n",
       "    </tr>\n",
       "  </tbody>\n",
       "</table>\n",
       "<p>20 rows × 54 columns</p>\n",
       "</div>"
      ],
      "text/plain": [
       "                Name  Age         Nationality  Overall  Potential  \\\n",
       "3             De Gea   27               Spain       91         93   \n",
       "5          E. Hazard   27             Belgium       91         91   \n",
       "6          L. Modrić   32             Croatia       91         91   \n",
       "8       Sergio Ramos   32               Spain       91         91   \n",
       "13       David Silva   32               Spain       90         90   \n",
       "24      G. Chiellini   33               Italy       89         89   \n",
       "21         E. Cavani   31             Uruguay       89         89   \n",
       "39      Thiago Silva   33              Brazil       88         88   \n",
       "31        C. Eriksen   26             Denmark       88         91   \n",
       "52         M. Hamšík   30            Slovakia       87         87   \n",
       "49        Jordi Alba   29               Spain       87         87   \n",
       "50        D. Mertens   31             Belgium       87         87   \n",
       "46          K. Navas   31          Costa Rica       87         87   \n",
       "75       Fernandinho   33              Brazil       86         86   \n",
       "73        M. Benatia   31             Morocco       86         86   \n",
       "71   T. Alderweireld   29             Belgium       86         87   \n",
       "64       Alex Sandro   27              Brazil       86         86   \n",
       "98          E. Džeko   32  Bosnia Herzegovina       85         85   \n",
       "102            Naldo   35              Brazil       85         85   \n",
       "103       B. Matuidi   31              France       85         85   \n",
       "\n",
       "                    Club       Value      Wage Preferred Foot  \\\n",
       "3      Manchester United  72000000.0  260000.0          Right   \n",
       "5                Chelsea  93000000.0  340000.0          Right   \n",
       "6            Real Madrid  67000000.0  420000.0          Right   \n",
       "8            Real Madrid  51000000.0  380000.0          Right   \n",
       "13       Manchester City  60000000.0  285000.0           Left   \n",
       "24              Juventus  27000000.0  215000.0           Left   \n",
       "21   Paris Saint-Germain  60000000.0  200000.0          Right   \n",
       "39   Paris Saint-Germain  24000000.0  165000.0          Right   \n",
       "31     Tottenham Hotspur  73500000.0  205000.0          Right   \n",
       "52                Napoli  46500000.0  125000.0          Right   \n",
       "49          FC Barcelona  38000000.0  250000.0           Left   \n",
       "50                Napoli  45000000.0  135000.0          Right   \n",
       "46           Real Madrid  30500000.0  195000.0          Right   \n",
       "75       Manchester City  18000000.0  185000.0          Right   \n",
       "73              Juventus  30000000.0  160000.0          Right   \n",
       "71     Tottenham Hotspur  39000000.0  150000.0          Right   \n",
       "64              Juventus  36500000.0  160000.0           Left   \n",
       "98                  Roma  30500000.0  115000.0          Right   \n",
       "102        FC Schalke 04   9000000.0   38000.0          Right   \n",
       "103             Juventus  26000000.0  145000.0           Left   \n",
       "\n",
       "     International Reputation  ...  Composure  Marking StandingTackle  \\\n",
       "3                         4.0  ...       68.0     15.0           21.0   \n",
       "5                         4.0  ...       91.0     34.0           27.0   \n",
       "6                         4.0  ...       84.0     60.0           76.0   \n",
       "8                         4.0  ...       82.0     87.0           92.0   \n",
       "13                        4.0  ...       93.0     59.0           53.0   \n",
       "24                        4.0  ...       84.0     93.0           93.0   \n",
       "21                        4.0  ...       82.0     52.0           45.0   \n",
       "39                        4.0  ...       81.0     88.0           89.0   \n",
       "31                        3.0  ...       88.0     59.0           57.0   \n",
       "52                        3.0  ...       84.0     75.0           73.0   \n",
       "49                        3.0  ...       79.0     72.0           84.0   \n",
       "50                        3.0  ...       81.0     25.0           40.0   \n",
       "46                        3.0  ...       67.0     28.0           14.0   \n",
       "75                        3.0  ...       79.0     85.0           85.0   \n",
       "73                        3.0  ...       82.0     89.0           87.0   \n",
       "71                        3.0  ...       81.0     90.0           91.0   \n",
       "64                        3.0  ...       82.0     81.0           84.0   \n",
       "98                        3.0  ...       83.0     58.0           28.0   \n",
       "102                       3.0  ...       84.0     86.0           88.0   \n",
       "103                       3.0  ...       82.0     85.0           84.0   \n",
       "\n",
       "    SlidingTackle  GKDiving  GKHandling GKKicking  GKPositioning  GKReflexes  \\\n",
       "3            13.0      90.0        85.0      87.0           88.0        94.0   \n",
       "5            22.0      11.0        12.0       6.0            8.0         8.0   \n",
       "6            73.0      13.0         9.0       7.0           14.0         9.0   \n",
       "8            91.0      11.0         8.0       9.0            7.0        11.0   \n",
       "13           29.0       6.0        15.0       7.0            6.0        12.0   \n",
       "24           90.0       3.0         3.0       2.0            4.0         3.0   \n",
       "21           39.0      12.0         5.0      13.0           13.0        10.0   \n",
       "39           85.0       9.0        12.0       5.0            9.0        10.0   \n",
       "31           22.0       9.0        14.0       7.0            7.0         6.0   \n",
       "52           62.0       8.0         6.0       4.0           14.0        14.0   \n",
       "49           85.0      13.0        15.0      13.0            6.0        13.0   \n",
       "50           40.0       7.0        10.0       8.0           10.0         4.0   \n",
       "46           14.0      90.0        81.0      75.0           82.0        90.0   \n",
       "75           80.0      12.0        11.0       5.0           13.0         7.0   \n",
       "73           85.0       7.0         4.0       8.0            7.0        11.0   \n",
       "71           86.0      16.0         6.0      14.0           16.0        14.0   \n",
       "64           84.0       7.0         7.0       9.0           12.0         5.0   \n",
       "98           16.0       9.0        11.0      13.0           15.0        15.0   \n",
       "102          85.0      14.0        10.0      14.0            8.0        14.0   \n",
       "103          86.0       8.0        11.0       5.0           10.0        14.0   \n",
       "\n",
       "     Release Clause  \n",
       "3       138600000.0  \n",
       "5       172100000.0  \n",
       "6       137400000.0  \n",
       "8       104600000.0  \n",
       "13      111000000.0  \n",
       "24       44600000.0  \n",
       "21      111000000.0  \n",
       "39       44400000.0  \n",
       "31      141500000.0  \n",
       "52       79100000.0  \n",
       "49       77900000.0  \n",
       "50       76500000.0  \n",
       "46       62500000.0  \n",
       "75       33300000.0  \n",
       "73       49500000.0  \n",
       "71       75100000.0  \n",
       "64       60200000.0  \n",
       "98       51900000.0  \n",
       "102      15300000.0  \n",
       "103      42900000.0  \n",
       "\n",
       "[20 rows x 54 columns]"
      ]
     },
     "execution_count": 63,
     "metadata": {},
     "output_type": "execute_result"
    }
   ],
   "source": [
    "top20.head(20)"
   ]
  },
  {
   "cell_type": "markdown",
   "metadata": {},
   "source": [
    "a) What would the average wage for this set of players be?"
   ]
  },
  {
   "cell_type": "code",
   "execution_count": 64,
   "metadata": {},
   "outputs": [
    {
     "data": {
      "text/plain": [
       "9278.122671964242"
      ]
     },
     "execution_count": 64,
     "metadata": {},
     "output_type": "execute_result"
    }
   ],
   "source": [
    "top20['Wage'].mean()"
   ]
  },
  {
   "cell_type": "markdown",
   "metadata": {},
   "source": [
    "b) What is the average age"
   ]
  },
  {
   "cell_type": "code",
   "execution_count": 65,
   "metadata": {},
   "outputs": [
    {
     "data": {
      "text/plain": [
       "25.218773280357585"
      ]
     },
     "execution_count": 65,
     "metadata": {},
     "output_type": "execute_result"
    }
   ],
   "source": [
    "top20[\"Age\"].mean()"
   ]
  },
  {
   "cell_type": "markdown",
   "metadata": {},
   "source": [
    "c)\tIs there a correlation between the Overall rating and Value for these players?"
   ]
  },
  {
   "cell_type": "code",
   "execution_count": 110,
   "metadata": {
    "scrolled": true
   },
   "outputs": [],
   "source": [
    "cor = top20[['Overall', 'Value']].corr()"
   ]
  },
  {
   "cell_type": "code",
   "execution_count": 111,
   "metadata": {
    "scrolled": true
   },
   "outputs": [
    {
     "data": {
      "text/html": [
       "<div>\n",
       "<style scoped>\n",
       "    .dataframe tbody tr th:only-of-type {\n",
       "        vertical-align: middle;\n",
       "    }\n",
       "\n",
       "    .dataframe tbody tr th {\n",
       "        vertical-align: top;\n",
       "    }\n",
       "\n",
       "    .dataframe thead th {\n",
       "        text-align: right;\n",
       "    }\n",
       "</style>\n",
       "<table border=\"1\" class=\"dataframe\">\n",
       "  <thead>\n",
       "    <tr style=\"text-align: right;\">\n",
       "      <th></th>\n",
       "      <th>Overall</th>\n",
       "      <th>Value</th>\n",
       "    </tr>\n",
       "  </thead>\n",
       "  <tbody>\n",
       "    <tr>\n",
       "      <th>Overall</th>\n",
       "      <td>1.000000</td>\n",
       "      <td>0.629059</td>\n",
       "    </tr>\n",
       "    <tr>\n",
       "      <th>Value</th>\n",
       "      <td>0.629059</td>\n",
       "      <td>1.000000</td>\n",
       "    </tr>\n",
       "  </tbody>\n",
       "</table>\n",
       "</div>"
      ],
      "text/plain": [
       "          Overall     Value\n",
       "Overall  1.000000  0.629059\n",
       "Value    0.629059  1.000000"
      ]
     },
     "execution_count": 111,
     "metadata": {},
     "output_type": "execute_result"
    }
   ],
   "source": [
    "cor"
   ]
  },
  {
   "cell_type": "code",
   "execution_count": 113,
   "metadata": {},
   "outputs": [
    {
     "data": {
      "text/plain": [
       "<AxesSubplot:>"
      ]
     },
     "execution_count": 113,
     "metadata": {},
     "output_type": "execute_result"
    },
    {
     "data": {
      "image/png": "[encoded data removed]",
      "text/plain": [
       "<Figure size 432x288 with 2 Axes>"
      ]
     },
     "metadata": {
      "needs_background": "light"
     },
     "output_type": "display_data"
    }
   ],
   "source": [
    "sb.heatmap(cor, annot = True)"
   ]
  },
  {
   "cell_type": "code",
   "execution_count": null,
   "metadata": {},
   "outputs": [],
   "source": []
  },
  {
   "cell_type": "markdown",
   "metadata": {},
   "source": [
    "\n",
    "4.\tGenerate tables containing the top 5 players by Overall rating for each unique position.\n",
    "- a)\tAre there any players appearing in more than one Table. Please point out such players.\n",
    "- b)\tWhat is the average wage one can expect to pay for the top 5 in every position?\n"
   ]
  },
  {
   "cell_type": "code",
   "execution_count": 67,
   "metadata": {},
   "outputs": [
    {
     "data": {
      "text/plain": [
       "0        94\n",
       "1        94\n",
       "2        92\n",
       "3        91\n",
       "4        91\n",
       "         ..\n",
       "18202    47\n",
       "18203    47\n",
       "18204    47\n",
       "18205    47\n",
       "18206    46\n",
       "Name: Overall, Length: 16643, dtype: int64"
      ]
     },
     "execution_count": 67,
     "metadata": {},
     "output_type": "execute_result"
    }
   ],
   "source": [
    "data[\"Overall\"]"
   ]
  },
  {
   "cell_type": "code",
   "execution_count": 68,
   "metadata": {
    "scrolled": true
   },
   "outputs": [
    {
     "data": {
      "text/plain": [
       "Index(['ST', 'GK', 'CB', 'CM', 'LB', 'RB', 'RM', 'LM', 'CAM', 'CDM', 'RCB',\n",
       "       'LCB', 'RCM', 'LCM', 'LW', 'RW', 'RDM', 'LDM', 'LS', 'RS', 'RWB', 'LWB',\n",
       "       'CF', 'RAM', 'LAM', 'LF', 'RF'],\n",
       "      dtype='object')"
      ]
     },
     "execution_count": 68,
     "metadata": {},
     "output_type": "execute_result"
    }
   ],
   "source": [
    "unp = data[\"Position\"].value_counts().index\n",
    "unp\n"
   ]
  },
  {
   "cell_type": "code",
   "execution_count": null,
   "metadata": {},
   "outputs": [],
   "source": []
  },
  {
   "cell_type": "code",
   "execution_count": 70,
   "metadata": {},
   "outputs": [
    {
     "data": {
      "text/html": [
       "<div>\n",
       "<style scoped>\n",
       "    .dataframe tbody tr th:only-of-type {\n",
       "        vertical-align: middle;\n",
       "    }\n",
       "\n",
       "    .dataframe tbody tr th {\n",
       "        vertical-align: top;\n",
       "    }\n",
       "\n",
       "    .dataframe thead th {\n",
       "        text-align: right;\n",
       "    }\n",
       "</style>\n",
       "<table border=\"1\" class=\"dataframe\">\n",
       "  <thead>\n",
       "    <tr style=\"text-align: right;\">\n",
       "      <th></th>\n",
       "      <th>Name</th>\n",
       "      <th>Overall</th>\n",
       "    </tr>\n",
       "  </thead>\n",
       "  <tbody>\n",
       "    <tr>\n",
       "      <th>453</th>\n",
       "      <td>De Gea</td>\n",
       "      <td>91</td>\n",
       "    </tr>\n",
       "    <tr>\n",
       "      <th>830</th>\n",
       "      <td>J. Oblak</td>\n",
       "      <td>90</td>\n",
       "    </tr>\n",
       "    <tr>\n",
       "      <th>1279</th>\n",
       "      <td>M. ter Stegen</td>\n",
       "      <td>89</td>\n",
       "    </tr>\n",
       "    <tr>\n",
       "      <th>1697</th>\n",
       "      <td>T. Courtois</td>\n",
       "      <td>89</td>\n",
       "    </tr>\n",
       "    <tr>\n",
       "      <th>1210</th>\n",
       "      <td>M. Neuer</td>\n",
       "      <td>89</td>\n",
       "    </tr>\n",
       "  </tbody>\n",
       "</table>\n",
       "</div>"
      ],
      "text/plain": [
       "               Name  Overall\n",
       "453          De Gea       91\n",
       "830        J. Oblak       90\n",
       "1279  M. ter Stegen       89\n",
       "1697    T. Courtois       89\n",
       "1210       M. Neuer       89"
      ]
     },
     "execution_count": 70,
     "metadata": {},
     "output_type": "execute_result"
    }
   ],
   "source": [
    "unp1 = data[data[\"Position\"] == unp[1]].groupby([\"Name\"])[[\"Overall\"]].max().reset_index().sort_values(\"Overall\",ascending = False).head(5)\n",
    "unp1\n"
   ]
  },
  {
   "cell_type": "code",
   "execution_count": 73,
   "metadata": {},
   "outputs": [
    {
     "data": {
      "text/html": [
       "<div>\n",
       "<style scoped>\n",
       "    .dataframe tbody tr th:only-of-type {\n",
       "        vertical-align: middle;\n",
       "    }\n",
       "\n",
       "    .dataframe tbody tr th {\n",
       "        vertical-align: top;\n",
       "    }\n",
       "\n",
       "    .dataframe thead th {\n",
       "        text-align: right;\n",
       "    }\n",
       "</style>\n",
       "<table border=\"1\" class=\"dataframe\">\n",
       "  <thead>\n",
       "    <tr style=\"text-align: right;\">\n",
       "      <th></th>\n",
       "      <th>Name</th>\n",
       "      <th>Wage</th>\n",
       "      <th>Overall</th>\n",
       "    </tr>\n",
       "  </thead>\n",
       "  <tbody>\n",
       "    <tr>\n",
       "      <th>888</th>\n",
       "      <td>Marcelo</td>\n",
       "      <td>285000.0</td>\n",
       "      <td>88</td>\n",
       "    </tr>\n",
       "    <tr>\n",
       "      <th>632</th>\n",
       "      <td>Jordi Alba</td>\n",
       "      <td>250000.0</td>\n",
       "      <td>87</td>\n",
       "    </tr>\n",
       "    <tr>\n",
       "      <th>115</th>\n",
       "      <td>Alex Sandro</td>\n",
       "      <td>160000.0</td>\n",
       "      <td>86</td>\n",
       "    </tr>\n",
       "    <tr>\n",
       "      <th>256</th>\n",
       "      <td>D. Alaba</td>\n",
       "      <td>110000.0</td>\n",
       "      <td>85</td>\n",
       "    </tr>\n",
       "    <tr>\n",
       "      <th>427</th>\n",
       "      <td>Filipe Luís</td>\n",
       "      <td>81000.0</td>\n",
       "      <td>85</td>\n",
       "    </tr>\n",
       "  </tbody>\n",
       "</table>\n",
       "</div>"
      ],
      "text/plain": [
       "            Name      Wage  Overall\n",
       "888      Marcelo  285000.0       88\n",
       "632   Jordi Alba  250000.0       87\n",
       "115  Alex Sandro  160000.0       86\n",
       "256     D. Alaba  110000.0       85\n",
       "427  Filipe Luís   81000.0       85"
      ]
     },
     "execution_count": 73,
     "metadata": {},
     "output_type": "execute_result"
    }
   ],
   "source": [
    "data4 = []\n",
    "po = 0\n",
    "for i in unp:\n",
    "    data4.append([i,data[data[\"Position\"] == i].groupby(\n",
    "        [\"Name\",\"Wage\"])[[\"Overall\"]].max().reset_index().sort_values(\n",
    "        \"Overall\",ascending = False).head(5)])\n",
    "    po+=1\n",
    "undata = dict(data4)\n",
    "undata[\"LB\"]\n",
    "\n",
    "\n"
   ]
  },
  {
   "cell_type": "code",
   "execution_count": 81,
   "metadata": {},
   "outputs": [],
   "source": [
    "for i in range(len(unp)):\n",
    "    globals()['qt%s' % i] =  data[data[\"Position\"] == unp[i]].groupby([\"Name\",\"Wage\"])[[\"Overall\"]].max().reset_index().sort_values(\"Overall\",ascending = False).head(5)\n",
    "\n"
   ]
  },
  {
   "cell_type": "code",
   "execution_count": 84,
   "metadata": {
    "scrolled": true
   },
   "outputs": [
    {
     "data": {
      "text/html": [
       "<div>\n",
       "<style scoped>\n",
       "    .dataframe tbody tr th:only-of-type {\n",
       "        vertical-align: middle;\n",
       "    }\n",
       "\n",
       "    .dataframe tbody tr th {\n",
       "        vertical-align: top;\n",
       "    }\n",
       "\n",
       "    .dataframe thead th {\n",
       "        text-align: right;\n",
       "    }\n",
       "</style>\n",
       "<table border=\"1\" class=\"dataframe\">\n",
       "  <thead>\n",
       "    <tr style=\"text-align: right;\">\n",
       "      <th></th>\n",
       "      <th>Name</th>\n",
       "      <th>Wage</th>\n",
       "      <th>Overall</th>\n",
       "    </tr>\n",
       "  </thead>\n",
       "  <tbody>\n",
       "    <tr>\n",
       "      <th>454</th>\n",
       "      <td>De Gea</td>\n",
       "      <td>260000.0</td>\n",
       "      <td>91</td>\n",
       "    </tr>\n",
       "    <tr>\n",
       "      <th>832</th>\n",
       "      <td>J. Oblak</td>\n",
       "      <td>94000.0</td>\n",
       "      <td>90</td>\n",
       "    </tr>\n",
       "    <tr>\n",
       "      <th>1707</th>\n",
       "      <td>T. Courtois</td>\n",
       "      <td>240000.0</td>\n",
       "      <td>89</td>\n",
       "    </tr>\n",
       "    <tr>\n",
       "      <th>1216</th>\n",
       "      <td>M. Neuer</td>\n",
       "      <td>130000.0</td>\n",
       "      <td>89</td>\n",
       "    </tr>\n",
       "    <tr>\n",
       "      <th>1285</th>\n",
       "      <td>M. ter Stegen</td>\n",
       "      <td>240000.0</td>\n",
       "      <td>89</td>\n",
       "    </tr>\n",
       "  </tbody>\n",
       "</table>\n",
       "</div>"
      ],
      "text/plain": [
       "               Name      Wage  Overall\n",
       "454          De Gea  260000.0       91\n",
       "832        J. Oblak   94000.0       90\n",
       "1707    T. Courtois  240000.0       89\n",
       "1216       M. Neuer  130000.0       89\n",
       "1285  M. ter Stegen  240000.0       89"
      ]
     },
     "execution_count": 84,
     "metadata": {},
     "output_type": "execute_result"
    }
   ],
   "source": [
    "qt1"
   ]
  },
  {
   "cell_type": "code",
   "execution_count": 85,
   "metadata": {},
   "outputs": [
    {
     "data": {
      "text/html": [
       "<div>\n",
       "<style scoped>\n",
       "    .dataframe tbody tr th:only-of-type {\n",
       "        vertical-align: middle;\n",
       "    }\n",
       "\n",
       "    .dataframe tbody tr th {\n",
       "        vertical-align: top;\n",
       "    }\n",
       "\n",
       "    .dataframe thead th {\n",
       "        text-align: right;\n",
       "    }\n",
       "</style>\n",
       "<table border=\"1\" class=\"dataframe\">\n",
       "  <thead>\n",
       "    <tr style=\"text-align: right;\">\n",
       "      <th></th>\n",
       "      <th>Name</th>\n",
       "      <th>Wage</th>\n",
       "      <th>Overall</th>\n",
       "    </tr>\n",
       "  </thead>\n",
       "  <tbody>\n",
       "    <tr>\n",
       "      <th>333</th>\n",
       "      <td>D. Godín</td>\n",
       "      <td>125000.0</td>\n",
       "      <td>90</td>\n",
       "    </tr>\n",
       "    <tr>\n",
       "      <th>1470</th>\n",
       "      <td>S. Umtiti</td>\n",
       "      <td>205000.0</td>\n",
       "      <td>87</td>\n",
       "    </tr>\n",
       "    <tr>\n",
       "      <th>993</th>\n",
       "      <td>M. Benatia</td>\n",
       "      <td>160000.0</td>\n",
       "      <td>86</td>\n",
       "    </tr>\n",
       "    <tr>\n",
       "      <th>1159</th>\n",
       "      <td>Miranda</td>\n",
       "      <td>96000.0</td>\n",
       "      <td>85</td>\n",
       "    </tr>\n",
       "    <tr>\n",
       "      <th>1219</th>\n",
       "      <td>Naldo</td>\n",
       "      <td>38000.0</td>\n",
       "      <td>85</td>\n",
       "    </tr>\n",
       "  </tbody>\n",
       "</table>\n",
       "</div>"
      ],
      "text/plain": [
       "            Name      Wage  Overall\n",
       "333     D. Godín  125000.0       90\n",
       "1470   S. Umtiti  205000.0       87\n",
       "993   M. Benatia  160000.0       86\n",
       "1159     Miranda   96000.0       85\n",
       "1219       Naldo   38000.0       85"
      ]
     },
     "execution_count": 85,
     "metadata": {},
     "output_type": "execute_result"
    }
   ],
   "source": [
    "qt2"
   ]
  },
  {
   "cell_type": "code",
   "execution_count": 93,
   "metadata": {
    "scrolled": true
   },
   "outputs": [
    {
     "data": {
      "text/html": [
       "<div>\n",
       "<style scoped>\n",
       "    .dataframe tbody tr th:only-of-type {\n",
       "        vertical-align: middle;\n",
       "    }\n",
       "\n",
       "    .dataframe tbody tr th {\n",
       "        vertical-align: top;\n",
       "    }\n",
       "\n",
       "    .dataframe thead th {\n",
       "        text-align: right;\n",
       "    }\n",
       "</style>\n",
       "<table border=\"1\" class=\"dataframe\">\n",
       "  <thead>\n",
       "    <tr style=\"text-align: right;\">\n",
       "      <th></th>\n",
       "      <th>Name</th>\n",
       "      <th>Wage</th>\n",
       "      <th>Overall</th>\n",
       "    </tr>\n",
       "  </thead>\n",
       "  <tbody>\n",
       "    <tr>\n",
       "      <th>1195</th>\n",
       "      <td>Thiago</td>\n",
       "      <td>130000.0</td>\n",
       "      <td>86</td>\n",
       "    </tr>\n",
       "    <tr>\n",
       "      <th>1120</th>\n",
       "      <td>S. Milinković-Savić</td>\n",
       "      <td>73000.0</td>\n",
       "      <td>85</td>\n",
       "    </tr>\n",
       "    <tr>\n",
       "      <th>511</th>\n",
       "      <td>I. Gündoğan</td>\n",
       "      <td>175000.0</td>\n",
       "      <td>84</td>\n",
       "    </tr>\n",
       "    <tr>\n",
       "      <th>667</th>\n",
       "      <td>Jorginho</td>\n",
       "      <td>155000.0</td>\n",
       "      <td>84</td>\n",
       "    </tr>\n",
       "    <tr>\n",
       "      <th>88</th>\n",
       "      <td>A. Rabiot</td>\n",
       "      <td>91000.0</td>\n",
       "      <td>83</td>\n",
       "    </tr>\n",
       "  </tbody>\n",
       "</table>\n",
       "</div>"
      ],
      "text/plain": [
       "                     Name      Wage  Overall\n",
       "1195               Thiago  130000.0       86\n",
       "1120  S. Milinković-Savić   73000.0       85\n",
       "511           I. Gündoğan  175000.0       84\n",
       "667              Jorginho  155000.0       84\n",
       "88              A. Rabiot   91000.0       83"
      ]
     },
     "execution_count": 93,
     "metadata": {},
     "output_type": "execute_result"
    }
   ],
   "source": [
    "qt3"
   ]
  },
  {
   "cell_type": "code",
   "execution_count": 94,
   "metadata": {
    "scrolled": true
   },
   "outputs": [
    {
     "data": {
      "text/html": [
       "<div>\n",
       "<style scoped>\n",
       "    .dataframe tbody tr th:only-of-type {\n",
       "        vertical-align: middle;\n",
       "    }\n",
       "\n",
       "    .dataframe tbody tr th {\n",
       "        vertical-align: top;\n",
       "    }\n",
       "\n",
       "    .dataframe thead th {\n",
       "        text-align: right;\n",
       "    }\n",
       "</style>\n",
       "<table border=\"1\" class=\"dataframe\">\n",
       "  <thead>\n",
       "    <tr style=\"text-align: right;\">\n",
       "      <th></th>\n",
       "      <th>Name</th>\n",
       "      <th>Wage</th>\n",
       "      <th>Overall</th>\n",
       "    </tr>\n",
       "  </thead>\n",
       "  <tbody>\n",
       "    <tr>\n",
       "      <th>888</th>\n",
       "      <td>Marcelo</td>\n",
       "      <td>285000.0</td>\n",
       "      <td>88</td>\n",
       "    </tr>\n",
       "    <tr>\n",
       "      <th>632</th>\n",
       "      <td>Jordi Alba</td>\n",
       "      <td>250000.0</td>\n",
       "      <td>87</td>\n",
       "    </tr>\n",
       "    <tr>\n",
       "      <th>115</th>\n",
       "      <td>Alex Sandro</td>\n",
       "      <td>160000.0</td>\n",
       "      <td>86</td>\n",
       "    </tr>\n",
       "    <tr>\n",
       "      <th>256</th>\n",
       "      <td>D. Alaba</td>\n",
       "      <td>110000.0</td>\n",
       "      <td>85</td>\n",
       "    </tr>\n",
       "    <tr>\n",
       "      <th>427</th>\n",
       "      <td>Filipe Luís</td>\n",
       "      <td>81000.0</td>\n",
       "      <td>85</td>\n",
       "    </tr>\n",
       "  </tbody>\n",
       "</table>\n",
       "</div>"
      ],
      "text/plain": [
       "            Name      Wage  Overall\n",
       "888      Marcelo  285000.0       88\n",
       "632   Jordi Alba  250000.0       87\n",
       "115  Alex Sandro  160000.0       86\n",
       "256     D. Alaba  110000.0       85\n",
       "427  Filipe Luís   81000.0       85"
      ]
     },
     "execution_count": 94,
     "metadata": {},
     "output_type": "execute_result"
    }
   ],
   "source": [
    "qt4"
   ]
  },
  {
   "cell_type": "code",
   "execution_count": 95,
   "metadata": {
    "scrolled": true
   },
   "outputs": [
    {
     "data": {
      "text/html": [
       "<div>\n",
       "<style scoped>\n",
       "    .dataframe tbody tr th:only-of-type {\n",
       "        vertical-align: middle;\n",
       "    }\n",
       "\n",
       "    .dataframe tbody tr th {\n",
       "        vertical-align: top;\n",
       "    }\n",
       "\n",
       "    .dataframe thead th {\n",
       "        text-align: right;\n",
       "    }\n",
       "</style>\n",
       "<table border=\"1\" class=\"dataframe\">\n",
       "  <thead>\n",
       "    <tr style=\"text-align: right;\">\n",
       "      <th></th>\n",
       "      <th>Name</th>\n",
       "      <th>Wage</th>\n",
       "      <th>Overall</th>\n",
       "    </tr>\n",
       "  </thead>\n",
       "  <tbody>\n",
       "    <tr>\n",
       "      <th>87</th>\n",
       "      <td>Azpilicueta</td>\n",
       "      <td>175000.0</td>\n",
       "      <td>86</td>\n",
       "    </tr>\n",
       "    <tr>\n",
       "      <th>614</th>\n",
       "      <td>K. Walker</td>\n",
       "      <td>165000.0</td>\n",
       "      <td>84</td>\n",
       "    </tr>\n",
       "    <tr>\n",
       "      <th>188</th>\n",
       "      <td>Carvajal</td>\n",
       "      <td>185000.0</td>\n",
       "      <td>84</td>\n",
       "    </tr>\n",
       "    <tr>\n",
       "      <th>1061</th>\n",
       "      <td>Sergi Roberto</td>\n",
       "      <td>170000.0</td>\n",
       "      <td>83</td>\n",
       "    </tr>\n",
       "    <tr>\n",
       "      <th>630</th>\n",
       "      <td>L. Bender</td>\n",
       "      <td>82000.0</td>\n",
       "      <td>83</td>\n",
       "    </tr>\n",
       "  </tbody>\n",
       "</table>\n",
       "</div>"
      ],
      "text/plain": [
       "               Name      Wage  Overall\n",
       "87      Azpilicueta  175000.0       86\n",
       "614       K. Walker  165000.0       84\n",
       "188        Carvajal  185000.0       84\n",
       "1061  Sergi Roberto  170000.0       83\n",
       "630       L. Bender   82000.0       83"
      ]
     },
     "execution_count": 95,
     "metadata": {},
     "output_type": "execute_result"
    }
   ],
   "source": [
    "qt5"
   ]
  },
  {
   "cell_type": "code",
   "execution_count": 103,
   "metadata": {
    "scrolled": true
   },
   "outputs": [
    {
     "data": {
      "text/html": [
       "<div>\n",
       "<style scoped>\n",
       "    .dataframe tbody tr th:only-of-type {\n",
       "        vertical-align: middle;\n",
       "    }\n",
       "\n",
       "    .dataframe tbody tr th {\n",
       "        vertical-align: top;\n",
       "    }\n",
       "\n",
       "    .dataframe thead th {\n",
       "        text-align: right;\n",
       "    }\n",
       "</style>\n",
       "<table border=\"1\" class=\"dataframe\">\n",
       "  <thead>\n",
       "    <tr style=\"text-align: right;\">\n",
       "      <th></th>\n",
       "      <th>Name</th>\n",
       "      <th>Wage</th>\n",
       "      <th>Overall</th>\n",
       "    </tr>\n",
       "  </thead>\n",
       "  <tbody>\n",
       "    <tr>\n",
       "      <th>522</th>\n",
       "      <td>K. Mbappé</td>\n",
       "      <td>100000.0</td>\n",
       "      <td>88</td>\n",
       "    </tr>\n",
       "    <tr>\n",
       "      <th>670</th>\n",
       "      <td>M. Salah</td>\n",
       "      <td>255000.0</td>\n",
       "      <td>88</td>\n",
       "    </tr>\n",
       "    <tr>\n",
       "      <th>799</th>\n",
       "      <td>Quaresma</td>\n",
       "      <td>80000.0</td>\n",
       "      <td>84</td>\n",
       "    </tr>\n",
       "    <tr>\n",
       "      <th>307</th>\n",
       "      <td>F. Thauvin</td>\n",
       "      <td>72000.0</td>\n",
       "      <td>84</td>\n",
       "    </tr>\n",
       "    <tr>\n",
       "      <th>79</th>\n",
       "      <td>A. Robben</td>\n",
       "      <td>110000.0</td>\n",
       "      <td>84</td>\n",
       "    </tr>\n",
       "  </tbody>\n",
       "</table>\n",
       "</div>"
      ],
      "text/plain": [
       "           Name      Wage  Overall\n",
       "522   K. Mbappé  100000.0       88\n",
       "670    M. Salah  255000.0       88\n",
       "799    Quaresma   80000.0       84\n",
       "307  F. Thauvin   72000.0       84\n",
       "79    A. Robben  110000.0       84"
      ]
     },
     "execution_count": 103,
     "metadata": {},
     "output_type": "execute_result"
    }
   ],
   "source": [
    "qt6"
   ]
  },
  {
   "cell_type": "code",
   "execution_count": 104,
   "metadata": {
    "scrolled": false
   },
   "outputs": [
    {
     "data": {
      "text/html": [
       "<div>\n",
       "<style scoped>\n",
       "    .dataframe tbody tr th:only-of-type {\n",
       "        vertical-align: middle;\n",
       "    }\n",
       "\n",
       "    .dataframe tbody tr th {\n",
       "        vertical-align: top;\n",
       "    }\n",
       "\n",
       "    .dataframe thead th {\n",
       "        text-align: right;\n",
       "    }\n",
       "</style>\n",
       "<table border=\"1\" class=\"dataframe\">\n",
       "  <thead>\n",
       "    <tr style=\"text-align: right;\">\n",
       "      <th></th>\n",
       "      <th>Name</th>\n",
       "      <th>Wage</th>\n",
       "      <th>Overall</th>\n",
       "    </tr>\n",
       "  </thead>\n",
       "  <tbody>\n",
       "    <tr>\n",
       "      <th>756</th>\n",
       "      <td>P. Aubameyang</td>\n",
       "      <td>265000.0</td>\n",
       "      <td>88</td>\n",
       "    </tr>\n",
       "    <tr>\n",
       "      <th>869</th>\n",
       "      <td>S. Mané</td>\n",
       "      <td>195000.0</td>\n",
       "      <td>86</td>\n",
       "    </tr>\n",
       "    <tr>\n",
       "      <th>664</th>\n",
       "      <td>M. Reus</td>\n",
       "      <td>100000.0</td>\n",
       "      <td>86</td>\n",
       "    </tr>\n",
       "    <tr>\n",
       "      <th>232</th>\n",
       "      <td>Douglas Costa</td>\n",
       "      <td>175000.0</td>\n",
       "      <td>86</td>\n",
       "    </tr>\n",
       "    <tr>\n",
       "      <th>982</th>\n",
       "      <td>Y. Brahimi</td>\n",
       "      <td>28000.0</td>\n",
       "      <td>85</td>\n",
       "    </tr>\n",
       "  </tbody>\n",
       "</table>\n",
       "</div>"
      ],
      "text/plain": [
       "              Name      Wage  Overall\n",
       "756  P. Aubameyang  265000.0       88\n",
       "869        S. Mané  195000.0       86\n",
       "664        M. Reus  100000.0       86\n",
       "232  Douglas Costa  175000.0       86\n",
       "982     Y. Brahimi   28000.0       85"
      ]
     },
     "execution_count": 104,
     "metadata": {},
     "output_type": "execute_result"
    }
   ],
   "source": [
    "qt7"
   ]
  },
  {
   "cell_type": "code",
   "execution_count": 105,
   "metadata": {
    "scrolled": false
   },
   "outputs": [
    {
     "data": {
      "text/html": [
       "<div>\n",
       "<style scoped>\n",
       "    .dataframe tbody tr th:only-of-type {\n",
       "        vertical-align: middle;\n",
       "    }\n",
       "\n",
       "    .dataframe tbody tr th {\n",
       "        vertical-align: top;\n",
       "    }\n",
       "\n",
       "    .dataframe thead th {\n",
       "        text-align: right;\n",
       "    }\n",
       "</style>\n",
       "<table border=\"1\" class=\"dataframe\">\n",
       "  <thead>\n",
       "    <tr style=\"text-align: right;\">\n",
       "      <th></th>\n",
       "      <th>Name</th>\n",
       "      <th>Wage</th>\n",
       "      <th>Overall</th>\n",
       "    </tr>\n",
       "  </thead>\n",
       "  <tbody>\n",
       "    <tr>\n",
       "      <th>31</th>\n",
       "      <td>A. Griezmann</td>\n",
       "      <td>145000.0</td>\n",
       "      <td>89</td>\n",
       "    </tr>\n",
       "    <tr>\n",
       "      <th>125</th>\n",
       "      <td>C. Eriksen</td>\n",
       "      <td>205000.0</td>\n",
       "      <td>88</td>\n",
       "    </tr>\n",
       "    <tr>\n",
       "      <th>815</th>\n",
       "      <td>T. Müller</td>\n",
       "      <td>135000.0</td>\n",
       "      <td>86</td>\n",
       "    </tr>\n",
       "    <tr>\n",
       "      <th>737</th>\n",
       "      <td>Roberto Firmino</td>\n",
       "      <td>195000.0</td>\n",
       "      <td>86</td>\n",
       "    </tr>\n",
       "    <tr>\n",
       "      <th>601</th>\n",
       "      <td>M. Özil</td>\n",
       "      <td>190000.0</td>\n",
       "      <td>86</td>\n",
       "    </tr>\n",
       "  </tbody>\n",
       "</table>\n",
       "</div>"
      ],
      "text/plain": [
       "                Name      Wage  Overall\n",
       "31      A. Griezmann  145000.0       89\n",
       "125       C. Eriksen  205000.0       88\n",
       "815        T. Müller  135000.0       86\n",
       "737  Roberto Firmino  195000.0       86\n",
       "601          M. Özil  190000.0       86"
      ]
     },
     "execution_count": 105,
     "metadata": {},
     "output_type": "execute_result"
    }
   ],
   "source": [
    "qt8"
   ]
  },
  {
   "cell_type": "code",
   "execution_count": 106,
   "metadata": {
    "scrolled": true
   },
   "outputs": [
    {
     "data": {
      "text/html": [
       "<div>\n",
       "<style scoped>\n",
       "    .dataframe tbody tr th:only-of-type {\n",
       "        vertical-align: middle;\n",
       "    }\n",
       "\n",
       "    .dataframe tbody tr th {\n",
       "        vertical-align: top;\n",
       "    }\n",
       "\n",
       "    .dataframe thead th {\n",
       "        text-align: right;\n",
       "    }\n",
       "</style>\n",
       "<table border=\"1\" class=\"dataframe\">\n",
       "  <thead>\n",
       "    <tr style=\"text-align: right;\">\n",
       "      <th></th>\n",
       "      <th>Name</th>\n",
       "      <th>Wage</th>\n",
       "      <th>Overall</th>\n",
       "    </tr>\n",
       "  </thead>\n",
       "  <tbody>\n",
       "    <tr>\n",
       "      <th>776</th>\n",
       "      <td>Sergio Busquets</td>\n",
       "      <td>315000.0</td>\n",
       "      <td>89</td>\n",
       "    </tr>\n",
       "    <tr>\n",
       "      <th>142</th>\n",
       "      <td>Casemiro</td>\n",
       "      <td>285000.0</td>\n",
       "      <td>88</td>\n",
       "    </tr>\n",
       "    <tr>\n",
       "      <th>246</th>\n",
       "      <td>Fernandinho</td>\n",
       "      <td>185000.0</td>\n",
       "      <td>86</td>\n",
       "    </tr>\n",
       "    <tr>\n",
       "      <th>568</th>\n",
       "      <td>M. Pjanić</td>\n",
       "      <td>180000.0</td>\n",
       "      <td>86</td>\n",
       "    </tr>\n",
       "    <tr>\n",
       "      <th>201</th>\n",
       "      <td>E. Banega</td>\n",
       "      <td>31000.0</td>\n",
       "      <td>84</td>\n",
       "    </tr>\n",
       "  </tbody>\n",
       "</table>\n",
       "</div>"
      ],
      "text/plain": [
       "                Name      Wage  Overall\n",
       "776  Sergio Busquets  315000.0       89\n",
       "142         Casemiro  285000.0       88\n",
       "246      Fernandinho  185000.0       86\n",
       "568        M. Pjanić  180000.0       86\n",
       "201        E. Banega   31000.0       84"
      ]
     },
     "execution_count": 106,
     "metadata": {},
     "output_type": "execute_result"
    }
   ],
   "source": [
    "qt9"
   ]
  },
  {
   "cell_type": "code",
   "execution_count": 107,
   "metadata": {
    "scrolled": true
   },
   "outputs": [
    {
     "data": {
      "text/html": [
       "<div>\n",
       "<style scoped>\n",
       "    .dataframe tbody tr th:only-of-type {\n",
       "        vertical-align: middle;\n",
       "    }\n",
       "\n",
       "    .dataframe tbody tr th {\n",
       "        vertical-align: top;\n",
       "    }\n",
       "\n",
       "    .dataframe thead th {\n",
       "        text-align: right;\n",
       "    }\n",
       "</style>\n",
       "<table border=\"1\" class=\"dataframe\">\n",
       "  <thead>\n",
       "    <tr style=\"text-align: right;\">\n",
       "      <th></th>\n",
       "      <th>Name</th>\n",
       "      <th>Wage</th>\n",
       "      <th>Overall</th>\n",
       "    </tr>\n",
       "  </thead>\n",
       "  <tbody>\n",
       "    <tr>\n",
       "      <th>555</th>\n",
       "      <td>Sergio Ramos</td>\n",
       "      <td>380000.0</td>\n",
       "      <td>91</td>\n",
       "    </tr>\n",
       "    <tr>\n",
       "      <th>576</th>\n",
       "      <td>Thiago Silva</td>\n",
       "      <td>165000.0</td>\n",
       "      <td>88</td>\n",
       "    </tr>\n",
       "    <tr>\n",
       "      <th>478</th>\n",
       "      <td>Piqué</td>\n",
       "      <td>240000.0</td>\n",
       "      <td>87</td>\n",
       "    </tr>\n",
       "    <tr>\n",
       "      <th>332</th>\n",
       "      <td>L. Bonucci</td>\n",
       "      <td>160000.0</td>\n",
       "      <td>86</td>\n",
       "    </tr>\n",
       "    <tr>\n",
       "      <th>558</th>\n",
       "      <td>T. Alderweireld</td>\n",
       "      <td>150000.0</td>\n",
       "      <td>86</td>\n",
       "    </tr>\n",
       "  </tbody>\n",
       "</table>\n",
       "</div>"
      ],
      "text/plain": [
       "                Name      Wage  Overall\n",
       "555     Sergio Ramos  380000.0       91\n",
       "576     Thiago Silva  165000.0       88\n",
       "478            Piqué  240000.0       87\n",
       "332       L. Bonucci  160000.0       86\n",
       "558  T. Alderweireld  150000.0       86"
      ]
     },
     "execution_count": 107,
     "metadata": {},
     "output_type": "execute_result"
    }
   ],
   "source": [
    "qt10"
   ]
  },
  {
   "cell_type": "markdown",
   "metadata": {},
   "source": [
    "Are there any players appearing in more than one Table. Please point out such players."
   ]
  },
  {
   "cell_type": "code",
   "execution_count": 91,
   "metadata": {
    "scrolled": true
   },
   "outputs": [
    {
     "name": "stdout",
     "output_type": "stream",
     "text": [
      "names :  135\n",
      "converting list:  135\n",
      "unique\n"
     ]
    }
   ],
   "source": [
    "b = []\n",
    "for i in undata.values():\n",
    "    b.extend((list(i[\"Name\"])))\n",
    "\n",
    "c= set(b)    \n",
    "print(\"names : \",len(b))\n",
    "print(\"converting list: \",len(c))\n",
    "\n",
    "if b == c:\n",
    "    print(\"no player\")\n",
    "else :\n",
    "    print(\"unique\")"
   ]
  },
  {
   "cell_type": "markdown",
   "metadata": {},
   "source": [
    "What is the average wage one can expect to pay for the top 5 in every position?"
   ]
  },
  {
   "cell_type": "code",
   "execution_count": 109,
   "metadata": {
    "scrolled": false
   },
   "outputs": [
    {
     "name": "stdout",
     "output_type": "stream",
     "text": [
      "For Position-  ST Expected Average wage would be:  294000.0\n",
      "For Position-  GK Expected Average wage would be:  192800.0\n",
      "For Position-  CB Expected Average wage would be:  124800.0\n",
      "For Position-  CM Expected Average wage would be:  124800.0\n",
      "For Position-  LB Expected Average wage would be:  177200.0\n",
      "For Position-  RB Expected Average wage would be:  155400.0\n",
      "For Position-  RM Expected Average wage would be:  123400.0\n",
      "For Position-  LM Expected Average wage would be:  152600.0\n",
      "For Position-  CAM Expected Average wage would be:  174000.0\n",
      "For Position-  CDM Expected Average wage would be:  199200.0\n",
      "For Position-  RCB Expected Average wage would be:  219000.0\n",
      "For Position-  LCB Expected Average wage would be:  162000.0\n",
      "For Position-  RCM Expected Average wage would be:  252200.0\n",
      "For Position-  LCM Expected Average wage would be:  203000.0\n",
      "For Position-  LW Expected Average wage would be:  261000.0\n",
      "For Position-  RW Expected Average wage would be:  202000.0\n",
      "For Position-  RDM Expected Average wage would be:  105000.0\n",
      "For Position-  LDM Expected Average wage would be:  92400.0\n",
      "For Position-  LS Expected Average wage would be:  92200.0\n",
      "For Position-  RS Expected Average wage would be:  130400.0\n",
      "For Position-  RWB Expected Average wage would be:  44200.0\n",
      "For Position-  LWB Expected Average wage would be:  30000.0\n",
      "For Position-  CF Expected Average wage would be:  47400.0\n",
      "For Position-  RAM Expected Average wage would be:  46600.0\n",
      "For Position-  LAM Expected Average wage would be:  21800.0\n",
      "For Position-  LF Expected Average wage would be:  123200.0\n",
      "For Position-  RF Expected Average wage would be:  148000.0\n"
     ]
    }
   ],
   "source": [
    "for i,j in undata.items():\n",
    "    print(\"For Position- \",i,\"Expected Average wage would be: \",j[\"Wage\"].mean())"
   ]
  },
  {
   "cell_type": "code",
   "execution_count": null,
   "metadata": {},
   "outputs": [],
   "source": []
  }
 ],
 "metadata": {
  "kernelspec": {
   "display_name": "Python 3",
   "language": "python",
   "name": "python3"
  },
  "language_info": {
   "codemirror_mode": {
    "name": "ipython",
    "version": 3
   },
   "file_extension": ".py",
   "mimetype": "text/x-python",
   "name": "python",
   "nbconvert_exporter": "python",
   "pygments_lexer": "ipython3",
   "version": "3.8.5"
  }
 },
 "nbformat": 4,
 "nbformat_minor": 4
}
